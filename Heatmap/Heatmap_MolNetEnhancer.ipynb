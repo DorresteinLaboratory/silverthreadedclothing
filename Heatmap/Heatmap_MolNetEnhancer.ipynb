{
 "cells": [
  {
   "cell_type": "markdown",
   "metadata": {},
   "source": [
    "# Heatmap"
   ]
  },
  {
   "cell_type": "markdown",
   "metadata": {},
   "source": [
    "<b>Author</b>: Madeleine Ernst (maet@ssi.dk,[@madeleineernst](https://github.com/madeleineernst)) "
   ]
  },
  {
   "cell_type": "markdown",
   "metadata": {},
   "source": [
    "In this notebook we create a heatmap showing relative abundances of putative chemical classes that are differntially abundant across left and right armpit samples of all volunteers combined at all timepoints. Chemical classes are putative estimates retrieved through the [MolNetEnhancer](https://www.mdpi.com/2218-1989/9/7/144) workflow and based on similarities in MS2 fragmentation patterns. "
   ]
  },
  {
   "cell_type": "markdown",
   "metadata": {},
   "source": [
    "<b>Input files</b>"
   ]
  },
  {
   "cell_type": "markdown",
   "metadata": {},
   "source": [
    "- Feature table and metadata can be downloaded from [MassIVE](ftp://massive.ucsd.edu/MSV000081379/)\n",
    "- Putative chemical classes can be downloaded from the MolNetEnhancer networking job on GNPS: <br>\n",
    "https://gnps.ucsd.edu/ProteoSAFe/status.jsp?task=d341e23d0aa8489d9776118c48db5a67 <br>\n",
    "(download Network, unzip folder, go to output_network/ClassyFireResults_Network.txt)"
   ]
  },
  {
   "cell_type": "markdown",
   "metadata": {},
   "source": [
    "load library"
   ]
  },
  {
   "cell_type": "code",
   "execution_count": 1,
   "metadata": {},
   "outputs": [
    {
     "name": "stderr",
     "output_type": "stream",
     "text": [
      "Loading required package: grid\n",
      "\n",
      "========================================\n",
      "ComplexHeatmap version 2.8.0\n",
      "Bioconductor page: http://bioconductor.org/packages/ComplexHeatmap/\n",
      "Github page: https://github.com/jokergoo/ComplexHeatmap\n",
      "Documentation: http://jokergoo.github.io/ComplexHeatmap-reference\n",
      "\n",
      "If you use it in published research, please cite:\n",
      "Gu, Z. Complex heatmaps reveal patterns and correlations in multidimensional \n",
      "  genomic data. Bioinformatics 2016.\n",
      "\n",
      "The new InteractiveComplexHeatmap package can directly export static \n",
      "complex heatmaps into an interactive Shiny app with zero effort. Have a try!\n",
      "\n",
      "This message can be suppressed by:\n",
      "  suppressPackageStartupMessages(library(ComplexHeatmap))\n",
      "========================================\n",
      "\n",
      "\n"
     ]
    }
   ],
   "source": [
    "library(\"ComplexHeatmap\")"
   ]
  },
  {
   "cell_type": "markdown",
   "metadata": {},
   "source": [
    "load metadata"
   ]
  },
  {
   "cell_type": "code",
   "execution_count": 2,
   "metadata": {},
   "outputs": [],
   "source": [
    "md <- read.table('Metadata_clothes_study.txt', sep = '\\t', check.names=F, header = T, comment.char = '', skip = 1)"
   ]
  },
  {
   "cell_type": "code",
   "execution_count": 3,
   "metadata": {},
   "outputs": [
    {
     "data": {
      "text/html": [
       "<table class=\"dataframe\">\n",
       "<caption>A data.frame: 6 × 219</caption>\n",
       "<thead>\n",
       "\t<tr><th></th><th scope=col>#SampleID</th><th scope=col>orig_name</th><th scope=col>primer_plate</th><th scope=col>well_id</th><th scope=col>BarcodeSequence</th><th scope=col>LinkerPrimerSequence</th><th scope=col>center_name</th><th scope=col>center_project_name</th><th scope=col>experiment_design_description</th><th scope=col>extraction_robot</th><th scope=col>⋯</th><th scope=col></th><th scope=col>.1</th><th scope=col>.2</th><th scope=col>.3</th><th scope=col>.4</th><th scope=col>.5</th><th scope=col>.6</th><th scope=col>.7</th><th scope=col>.8</th><th scope=col>.9</th></tr>\n",
       "\t<tr><th></th><th scope=col>&lt;chr&gt;</th><th scope=col>&lt;chr&gt;</th><th scope=col>&lt;int&gt;</th><th scope=col>&lt;chr&gt;</th><th scope=col>&lt;lgl&gt;</th><th scope=col>&lt;chr&gt;</th><th scope=col>&lt;chr&gt;</th><th scope=col>&lt;chr&gt;</th><th scope=col>&lt;chr&gt;</th><th scope=col>&lt;chr&gt;</th><th scope=col>⋯</th><th scope=col>&lt;lgl&gt;</th><th scope=col>&lt;lgl&gt;</th><th scope=col>&lt;lgl&gt;</th><th scope=col>&lt;lgl&gt;</th><th scope=col>&lt;lgl&gt;</th><th scope=col>&lt;lgl&gt;</th><th scope=col>&lt;lgl&gt;</th><th scope=col>&lt;lgl&gt;</th><th scope=col>&lt;lgl&gt;</th><th scope=col>&lt;lgl&gt;</th></tr>\n",
       "</thead>\n",
       "<tbody>\n",
       "\t<tr><th scope=row>1</th><td>Cl.Blank.1A1.empty</td><td>1A1</td><td>1</td><td>A1</td><td>NA</td><td>GTGTGYCAGCMGCCGCGGTAA</td><td>USCDMI</td><td>Clothes study</td><td>Clothes impact on skin microbiome/metabolome</td><td>HOWE</td><td>⋯</td><td>NA</td><td>NA</td><td>NA</td><td>NA</td><td>NA</td><td>NA</td><td>NA</td><td>NA</td><td>NA</td><td>NA</td></tr>\n",
       "\t<tr><th scope=row>2</th><td>Cl.V1.1A2.Blank   </td><td>1A2</td><td>1</td><td>A2</td><td>NA</td><td>GTGTGYCAGCMGCCGCGGTAA</td><td>USCDMI</td><td>Clothes study</td><td>Clothes impact on skin microbiome/metabolome</td><td>HOWE</td><td>⋯</td><td>NA</td><td>NA</td><td>NA</td><td>NA</td><td>NA</td><td>NA</td><td>NA</td><td>NA</td><td>NA</td><td>NA</td></tr>\n",
       "\t<tr><th scope=row>3</th><td>Cl.V1.1A3.RA      </td><td>1A3</td><td>1</td><td>A3</td><td>NA</td><td>GTGTGYCAGCMGCCGCGGTAA</td><td>USCDMI</td><td>Clothes study</td><td>Clothes impact on skin microbiome/metabolome</td><td>HOWE</td><td>⋯</td><td>NA</td><td>NA</td><td>NA</td><td>NA</td><td>NA</td><td>NA</td><td>NA</td><td>NA</td><td>NA</td><td>NA</td></tr>\n",
       "\t<tr><th scope=row>4</th><td>Cl.V1.1A4.LA      </td><td>1A4</td><td>1</td><td>A4</td><td>NA</td><td>GTGTGYCAGCMGCCGCGGTAA</td><td>USCDMI</td><td>Clothes study</td><td>Clothes impact on skin microbiome/metabolome</td><td>HOWE</td><td>⋯</td><td>NA</td><td>NA</td><td>NA</td><td>NA</td><td>NA</td><td>NA</td><td>NA</td><td>NA</td><td>NA</td><td>NA</td></tr>\n",
       "\t<tr><th scope=row>5</th><td>Cl.V1.1A5.C       </td><td>1A5</td><td>1</td><td>A5</td><td>NA</td><td>GTGTGYCAGCMGCCGCGGTAA</td><td>USCDMI</td><td>Clothes study</td><td>Clothes impact on skin microbiome/metabolome</td><td>HOWE</td><td>⋯</td><td>NA</td><td>NA</td><td>NA</td><td>NA</td><td>NA</td><td>NA</td><td>NA</td><td>NA</td><td>NA</td><td>NA</td></tr>\n",
       "\t<tr><th scope=row>6</th><td>Cl.V1.1A6.UB      </td><td>1A6</td><td>1</td><td>A6</td><td>NA</td><td>GTGTGYCAGCMGCCGCGGTAA</td><td>USCDMI</td><td>Clothes study</td><td>Clothes impact on skin microbiome/metabolome</td><td>HOWE</td><td>⋯</td><td>NA</td><td>NA</td><td>NA</td><td>NA</td><td>NA</td><td>NA</td><td>NA</td><td>NA</td><td>NA</td><td>NA</td></tr>\n",
       "</tbody>\n",
       "</table>\n"
      ],
      "text/latex": [
       "A data.frame: 6 × 219\n",
       "\\begin{tabular}{r|lllllllllllllllllllll}\n",
       "  & \\#SampleID & orig\\_name & primer\\_plate & well\\_id & BarcodeSequence & LinkerPrimerSequence & center\\_name & center\\_project\\_name & experiment\\_design\\_description & extraction\\_robot & ⋯ &  & .1 & .2 & .3 & .4 & .5 & .6 & .7 & .8 & .9\\\\\n",
       "  & <chr> & <chr> & <int> & <chr> & <lgl> & <chr> & <chr> & <chr> & <chr> & <chr> & ⋯ & <lgl> & <lgl> & <lgl> & <lgl> & <lgl> & <lgl> & <lgl> & <lgl> & <lgl> & <lgl>\\\\\n",
       "\\hline\n",
       "\t1 & Cl.Blank.1A1.empty & 1A1 & 1 & A1 & NA & GTGTGYCAGCMGCCGCGGTAA & USCDMI & Clothes study & Clothes impact on skin microbiome/metabolome & HOWE & ⋯ & NA & NA & NA & NA & NA & NA & NA & NA & NA & NA\\\\\n",
       "\t2 & Cl.V1.1A2.Blank    & 1A2 & 1 & A2 & NA & GTGTGYCAGCMGCCGCGGTAA & USCDMI & Clothes study & Clothes impact on skin microbiome/metabolome & HOWE & ⋯ & NA & NA & NA & NA & NA & NA & NA & NA & NA & NA\\\\\n",
       "\t3 & Cl.V1.1A3.RA       & 1A3 & 1 & A3 & NA & GTGTGYCAGCMGCCGCGGTAA & USCDMI & Clothes study & Clothes impact on skin microbiome/metabolome & HOWE & ⋯ & NA & NA & NA & NA & NA & NA & NA & NA & NA & NA\\\\\n",
       "\t4 & Cl.V1.1A4.LA       & 1A4 & 1 & A4 & NA & GTGTGYCAGCMGCCGCGGTAA & USCDMI & Clothes study & Clothes impact on skin microbiome/metabolome & HOWE & ⋯ & NA & NA & NA & NA & NA & NA & NA & NA & NA & NA\\\\\n",
       "\t5 & Cl.V1.1A5.C        & 1A5 & 1 & A5 & NA & GTGTGYCAGCMGCCGCGGTAA & USCDMI & Clothes study & Clothes impact on skin microbiome/metabolome & HOWE & ⋯ & NA & NA & NA & NA & NA & NA & NA & NA & NA & NA\\\\\n",
       "\t6 & Cl.V1.1A6.UB       & 1A6 & 1 & A6 & NA & GTGTGYCAGCMGCCGCGGTAA & USCDMI & Clothes study & Clothes impact on skin microbiome/metabolome & HOWE & ⋯ & NA & NA & NA & NA & NA & NA & NA & NA & NA & NA\\\\\n",
       "\\end{tabular}\n"
      ],
      "text/markdown": [
       "\n",
       "A data.frame: 6 × 219\n",
       "\n",
       "| <!--/--> | #SampleID &lt;chr&gt; | orig_name &lt;chr&gt; | primer_plate &lt;int&gt; | well_id &lt;chr&gt; | BarcodeSequence &lt;lgl&gt; | LinkerPrimerSequence &lt;chr&gt; | center_name &lt;chr&gt; | center_project_name &lt;chr&gt; | experiment_design_description &lt;chr&gt; | extraction_robot &lt;chr&gt; | ⋯ ⋯ | <!----> &lt;lgl&gt; | .1 &lt;lgl&gt; | .2 &lt;lgl&gt; | .3 &lt;lgl&gt; | .4 &lt;lgl&gt; | .5 &lt;lgl&gt; | .6 &lt;lgl&gt; | .7 &lt;lgl&gt; | .8 &lt;lgl&gt; | .9 &lt;lgl&gt; |\n",
       "|---|---|---|---|---|---|---|---|---|---|---|---|---|---|---|---|---|---|---|---|---|---|\n",
       "| 1 | Cl.Blank.1A1.empty | 1A1 | 1 | A1 | NA | GTGTGYCAGCMGCCGCGGTAA | USCDMI | Clothes study | Clothes impact on skin microbiome/metabolome | HOWE | ⋯ | NA | NA | NA | NA | NA | NA | NA | NA | NA | NA |\n",
       "| 2 | Cl.V1.1A2.Blank    | 1A2 | 1 | A2 | NA | GTGTGYCAGCMGCCGCGGTAA | USCDMI | Clothes study | Clothes impact on skin microbiome/metabolome | HOWE | ⋯ | NA | NA | NA | NA | NA | NA | NA | NA | NA | NA |\n",
       "| 3 | Cl.V1.1A3.RA       | 1A3 | 1 | A3 | NA | GTGTGYCAGCMGCCGCGGTAA | USCDMI | Clothes study | Clothes impact on skin microbiome/metabolome | HOWE | ⋯ | NA | NA | NA | NA | NA | NA | NA | NA | NA | NA |\n",
       "| 4 | Cl.V1.1A4.LA       | 1A4 | 1 | A4 | NA | GTGTGYCAGCMGCCGCGGTAA | USCDMI | Clothes study | Clothes impact on skin microbiome/metabolome | HOWE | ⋯ | NA | NA | NA | NA | NA | NA | NA | NA | NA | NA |\n",
       "| 5 | Cl.V1.1A5.C        | 1A5 | 1 | A5 | NA | GTGTGYCAGCMGCCGCGGTAA | USCDMI | Clothes study | Clothes impact on skin microbiome/metabolome | HOWE | ⋯ | NA | NA | NA | NA | NA | NA | NA | NA | NA | NA |\n",
       "| 6 | Cl.V1.1A6.UB       | 1A6 | 1 | A6 | NA | GTGTGYCAGCMGCCGCGGTAA | USCDMI | Clothes study | Clothes impact on skin microbiome/metabolome | HOWE | ⋯ | NA | NA | NA | NA | NA | NA | NA | NA | NA | NA |\n",
       "\n"
      ],
      "text/plain": [
       "  #SampleID          orig_name primer_plate well_id BarcodeSequence\n",
       "1 Cl.Blank.1A1.empty 1A1       1            A1      NA             \n",
       "2 Cl.V1.1A2.Blank    1A2       1            A2      NA             \n",
       "3 Cl.V1.1A3.RA       1A3       1            A3      NA             \n",
       "4 Cl.V1.1A4.LA       1A4       1            A4      NA             \n",
       "5 Cl.V1.1A5.C        1A5       1            A5      NA             \n",
       "6 Cl.V1.1A6.UB       1A6       1            A6      NA             \n",
       "  LinkerPrimerSequence  center_name center_project_name\n",
       "1 GTGTGYCAGCMGCCGCGGTAA USCDMI      Clothes study      \n",
       "2 GTGTGYCAGCMGCCGCGGTAA USCDMI      Clothes study      \n",
       "3 GTGTGYCAGCMGCCGCGGTAA USCDMI      Clothes study      \n",
       "4 GTGTGYCAGCMGCCGCGGTAA USCDMI      Clothes study      \n",
       "5 GTGTGYCAGCMGCCGCGGTAA USCDMI      Clothes study      \n",
       "6 GTGTGYCAGCMGCCGCGGTAA USCDMI      Clothes study      \n",
       "  experiment_design_description                extraction_robot ⋯    .1 .2 .3\n",
       "1 Clothes impact on skin microbiome/metabolome HOWE             ⋯ NA NA NA NA\n",
       "2 Clothes impact on skin microbiome/metabolome HOWE             ⋯ NA NA NA NA\n",
       "3 Clothes impact on skin microbiome/metabolome HOWE             ⋯ NA NA NA NA\n",
       "4 Clothes impact on skin microbiome/metabolome HOWE             ⋯ NA NA NA NA\n",
       "5 Clothes impact on skin microbiome/metabolome HOWE             ⋯ NA NA NA NA\n",
       "6 Clothes impact on skin microbiome/metabolome HOWE             ⋯ NA NA NA NA\n",
       "  .4 .5 .6 .7 .8 .9\n",
       "1 NA NA NA NA NA NA\n",
       "2 NA NA NA NA NA NA\n",
       "3 NA NA NA NA NA NA\n",
       "4 NA NA NA NA NA NA\n",
       "5 NA NA NA NA NA NA\n",
       "6 NA NA NA NA NA NA"
      ]
     },
     "metadata": {},
     "output_type": "display_data"
    }
   ],
   "source": [
    "head(md)"
   ]
  },
  {
   "cell_type": "markdown",
   "metadata": {},
   "source": [
    "load feature table"
   ]
  },
  {
   "cell_type": "code",
   "execution_count": 4,
   "metadata": {},
   "outputs": [],
   "source": [
    "ft <- read.csv('20180104_features_MS2.csv', sep = ',', check.names = F)"
   ]
  },
  {
   "cell_type": "code",
   "execution_count": 5,
   "metadata": {},
   "outputs": [
    {
     "data": {
      "text/html": [
       "<table class=\"dataframe\">\n",
       "<caption>A data.frame: 6 × 765</caption>\n",
       "<thead>\n",
       "\t<tr><th></th><th scope=col>row ID</th><th scope=col>row m/z</th><th scope=col>row retention time</th><th scope=col>CI.V10.2E12.UB_GE12_01_37977.mzXML</th><th scope=col>CI.V1.1A2.Blank_GA2_01_37823.mzXML</th><th scope=col>CI.V1.2A2.Blank_GA2_01_37919.mzXML</th><th scope=col>CI.V1.1A7.LB_GA7_01_37828.mzXML</th><th scope=col>CI.V1.3A12.UB_GA12_01_38022.mzXML</th><th scope=col>CI.V1.3A8.Blank_GA8_01_38018.mzXML</th><th scope=col>CI.V1.3A11.C_GA11_01_38021.mzXML</th><th scope=col>⋯</th><th scope=col>Cl.V9.7E10.LA_GE10_01_38452.mzXML</th><th scope=col>Cl.V9.9G8.CLA_GG8_01_38680.mzXML</th><th scope=col>Cl.V9.9B7.LB_GB7_01_38617.mzXML</th><th scope=col>Cl.V9.6D11.C_GD11_01_38337.mzXML</th><th scope=col>Cl.V9.9B3.RA_GB3_01_38613.mzXML</th><th scope=col>Cl.V9.6D9.RA_GD9_01_38335.mzXML</th><th scope=col>Cl.V9.9B5.C_GB5_01_38615.mzXML</th><th scope=col>Cl.V9.9B4.LA_GB4_01_38614.mzXML</th><th scope=col>Cl.V9.6D12.UB_GD12_01_38338.mzXML</th><th scope=col>Cl.V9.9B6.UB_GB6_01_38616.mzXML</th></tr>\n",
       "\t<tr><th></th><th scope=col>&lt;int&gt;</th><th scope=col>&lt;dbl&gt;</th><th scope=col>&lt;dbl&gt;</th><th scope=col>&lt;dbl&gt;</th><th scope=col>&lt;dbl&gt;</th><th scope=col>&lt;dbl&gt;</th><th scope=col>&lt;dbl&gt;</th><th scope=col>&lt;dbl&gt;</th><th scope=col>&lt;dbl&gt;</th><th scope=col>&lt;dbl&gt;</th><th scope=col>⋯</th><th scope=col>&lt;dbl&gt;</th><th scope=col>&lt;dbl&gt;</th><th scope=col>&lt;dbl&gt;</th><th scope=col>&lt;dbl&gt;</th><th scope=col>&lt;dbl&gt;</th><th scope=col>&lt;dbl&gt;</th><th scope=col>&lt;dbl&gt;</th><th scope=col>&lt;dbl&gt;</th><th scope=col>&lt;dbl&gt;</th><th scope=col>&lt;dbl&gt;</th></tr>\n",
       "</thead>\n",
       "<tbody>\n",
       "\t<tr><th scope=row>1</th><td>1</td><td>309.1310</td><td>4.578742</td><td>1138474.83</td><td>1350679.27</td><td>1663354.41</td><td>1841587.57</td><td>1949487.29</td><td>1865802.50</td><td>2322706.21</td><td>⋯</td><td>172359.84</td><td> 40509.94</td><td> 32600.430</td><td>134328.22</td><td> 57743.27</td><td>177192.50</td><td> 33423.05</td><td> 55365.40</td><td>151893.85</td><td> 33876.118</td></tr>\n",
       "\t<tr><th scope=row>2</th><td>2</td><td>353.1574</td><td>4.593583</td><td> 497808.39</td><td> 395031.82</td><td> 367164.07</td><td> 348340.12</td><td> 521272.83</td><td> 395125.57</td><td> 518559.54</td><td>⋯</td><td>495621.00</td><td> 55686.40</td><td> 28058.704</td><td>215996.21</td><td> 85582.71</td><td>827209.90</td><td> 38585.91</td><td> 82453.62</td><td>164472.08</td><td> 48714.038</td></tr>\n",
       "\t<tr><th scope=row>3</th><td>3</td><td>311.0810</td><td>3.432998</td><td> 210256.83</td><td>  60586.74</td><td>  43254.58</td><td>  78756.81</td><td>  45883.03</td><td>  46132.82</td><td>  45846.09</td><td>⋯</td><td>251282.49</td><td>162884.40</td><td>163283.208</td><td>190643.06</td><td>161425.01</td><td>210055.10</td><td>173695.81</td><td>166887.63</td><td>194880.15</td><td>157979.276</td></tr>\n",
       "\t<tr><th scope=row>4</th><td>4</td><td>287.1488</td><td>4.582337</td><td> 121685.32</td><td> 244454.98</td><td> 174670.13</td><td> 399499.30</td><td> 209844.03</td><td> 192635.99</td><td> 281543.01</td><td>⋯</td><td> 34880.88</td><td>  7537.60</td><td>  6967.822</td><td> 18044.72</td><td> 17208.66</td><td> 35511.96</td><td>  7723.87</td><td> 11029.29</td><td> 19822.13</td><td>  6731.214</td></tr>\n",
       "\t<tr><th scope=row>5</th><td>5</td><td>113.0599</td><td>4.588744</td><td> 126796.94</td><td> 371932.47</td><td> 252203.41</td><td> 490816.54</td><td> 229050.26</td><td> 265218.24</td><td> 267816.14</td><td>⋯</td><td> 79238.33</td><td> 14904.40</td><td>  9153.320</td><td> 33026.94</td><td> 20474.60</td><td>104629.75</td><td> 10799.78</td><td> 17018.20</td><td> 31673.02</td><td> 12641.380</td></tr>\n",
       "\t<tr><th scope=row>6</th><td>6</td><td>285.1314</td><td>3.028671</td><td>  88310.82</td><td> 293206.39</td><td> 317457.66</td><td> 290049.64</td><td> 395533.63</td><td> 346493.39</td><td> 455962.94</td><td>⋯</td><td> 88949.26</td><td> 37876.86</td><td> 60378.004</td><td>144662.88</td><td> 57392.87</td><td>131429.12</td><td> 63266.75</td><td> 45327.63</td><td>136126.57</td><td> 69658.646</td></tr>\n",
       "</tbody>\n",
       "</table>\n"
      ],
      "text/latex": [
       "A data.frame: 6 × 765\n",
       "\\begin{tabular}{r|lllllllllllllllllllll}\n",
       "  & row ID & row m/z & row retention time & CI.V10.2E12.UB\\_GE12\\_01\\_37977.mzXML & CI.V1.1A2.Blank\\_GA2\\_01\\_37823.mzXML & CI.V1.2A2.Blank\\_GA2\\_01\\_37919.mzXML & CI.V1.1A7.LB\\_GA7\\_01\\_37828.mzXML & CI.V1.3A12.UB\\_GA12\\_01\\_38022.mzXML & CI.V1.3A8.Blank\\_GA8\\_01\\_38018.mzXML & CI.V1.3A11.C\\_GA11\\_01\\_38021.mzXML & ⋯ & Cl.V9.7E10.LA\\_GE10\\_01\\_38452.mzXML & Cl.V9.9G8.CLA\\_GG8\\_01\\_38680.mzXML & Cl.V9.9B7.LB\\_GB7\\_01\\_38617.mzXML & Cl.V9.6D11.C\\_GD11\\_01\\_38337.mzXML & Cl.V9.9B3.RA\\_GB3\\_01\\_38613.mzXML & Cl.V9.6D9.RA\\_GD9\\_01\\_38335.mzXML & Cl.V9.9B5.C\\_GB5\\_01\\_38615.mzXML & Cl.V9.9B4.LA\\_GB4\\_01\\_38614.mzXML & Cl.V9.6D12.UB\\_GD12\\_01\\_38338.mzXML & Cl.V9.9B6.UB\\_GB6\\_01\\_38616.mzXML\\\\\n",
       "  & <int> & <dbl> & <dbl> & <dbl> & <dbl> & <dbl> & <dbl> & <dbl> & <dbl> & <dbl> & ⋯ & <dbl> & <dbl> & <dbl> & <dbl> & <dbl> & <dbl> & <dbl> & <dbl> & <dbl> & <dbl>\\\\\n",
       "\\hline\n",
       "\t1 & 1 & 309.1310 & 4.578742 & 1138474.83 & 1350679.27 & 1663354.41 & 1841587.57 & 1949487.29 & 1865802.50 & 2322706.21 & ⋯ & 172359.84 &  40509.94 &  32600.430 & 134328.22 &  57743.27 & 177192.50 &  33423.05 &  55365.40 & 151893.85 &  33876.118\\\\\n",
       "\t2 & 2 & 353.1574 & 4.593583 &  497808.39 &  395031.82 &  367164.07 &  348340.12 &  521272.83 &  395125.57 &  518559.54 & ⋯ & 495621.00 &  55686.40 &  28058.704 & 215996.21 &  85582.71 & 827209.90 &  38585.91 &  82453.62 & 164472.08 &  48714.038\\\\\n",
       "\t3 & 3 & 311.0810 & 3.432998 &  210256.83 &   60586.74 &   43254.58 &   78756.81 &   45883.03 &   46132.82 &   45846.09 & ⋯ & 251282.49 & 162884.40 & 163283.208 & 190643.06 & 161425.01 & 210055.10 & 173695.81 & 166887.63 & 194880.15 & 157979.276\\\\\n",
       "\t4 & 4 & 287.1488 & 4.582337 &  121685.32 &  244454.98 &  174670.13 &  399499.30 &  209844.03 &  192635.99 &  281543.01 & ⋯ &  34880.88 &   7537.60 &   6967.822 &  18044.72 &  17208.66 &  35511.96 &   7723.87 &  11029.29 &  19822.13 &   6731.214\\\\\n",
       "\t5 & 5 & 113.0599 & 4.588744 &  126796.94 &  371932.47 &  252203.41 &  490816.54 &  229050.26 &  265218.24 &  267816.14 & ⋯ &  79238.33 &  14904.40 &   9153.320 &  33026.94 &  20474.60 & 104629.75 &  10799.78 &  17018.20 &  31673.02 &  12641.380\\\\\n",
       "\t6 & 6 & 285.1314 & 3.028671 &   88310.82 &  293206.39 &  317457.66 &  290049.64 &  395533.63 &  346493.39 &  455962.94 & ⋯ &  88949.26 &  37876.86 &  60378.004 & 144662.88 &  57392.87 & 131429.12 &  63266.75 &  45327.63 & 136126.57 &  69658.646\\\\\n",
       "\\end{tabular}\n"
      ],
      "text/markdown": [
       "\n",
       "A data.frame: 6 × 765\n",
       "\n",
       "| <!--/--> | row ID &lt;int&gt; | row m/z &lt;dbl&gt; | row retention time &lt;dbl&gt; | CI.V10.2E12.UB_GE12_01_37977.mzXML &lt;dbl&gt; | CI.V1.1A2.Blank_GA2_01_37823.mzXML &lt;dbl&gt; | CI.V1.2A2.Blank_GA2_01_37919.mzXML &lt;dbl&gt; | CI.V1.1A7.LB_GA7_01_37828.mzXML &lt;dbl&gt; | CI.V1.3A12.UB_GA12_01_38022.mzXML &lt;dbl&gt; | CI.V1.3A8.Blank_GA8_01_38018.mzXML &lt;dbl&gt; | CI.V1.3A11.C_GA11_01_38021.mzXML &lt;dbl&gt; | ⋯ ⋯ | Cl.V9.7E10.LA_GE10_01_38452.mzXML &lt;dbl&gt; | Cl.V9.9G8.CLA_GG8_01_38680.mzXML &lt;dbl&gt; | Cl.V9.9B7.LB_GB7_01_38617.mzXML &lt;dbl&gt; | Cl.V9.6D11.C_GD11_01_38337.mzXML &lt;dbl&gt; | Cl.V9.9B3.RA_GB3_01_38613.mzXML &lt;dbl&gt; | Cl.V9.6D9.RA_GD9_01_38335.mzXML &lt;dbl&gt; | Cl.V9.9B5.C_GB5_01_38615.mzXML &lt;dbl&gt; | Cl.V9.9B4.LA_GB4_01_38614.mzXML &lt;dbl&gt; | Cl.V9.6D12.UB_GD12_01_38338.mzXML &lt;dbl&gt; | Cl.V9.9B6.UB_GB6_01_38616.mzXML &lt;dbl&gt; |\n",
       "|---|---|---|---|---|---|---|---|---|---|---|---|---|---|---|---|---|---|---|---|---|---|\n",
       "| 1 | 1 | 309.1310 | 4.578742 | 1138474.83 | 1350679.27 | 1663354.41 | 1841587.57 | 1949487.29 | 1865802.50 | 2322706.21 | ⋯ | 172359.84 |  40509.94 |  32600.430 | 134328.22 |  57743.27 | 177192.50 |  33423.05 |  55365.40 | 151893.85 |  33876.118 |\n",
       "| 2 | 2 | 353.1574 | 4.593583 |  497808.39 |  395031.82 |  367164.07 |  348340.12 |  521272.83 |  395125.57 |  518559.54 | ⋯ | 495621.00 |  55686.40 |  28058.704 | 215996.21 |  85582.71 | 827209.90 |  38585.91 |  82453.62 | 164472.08 |  48714.038 |\n",
       "| 3 | 3 | 311.0810 | 3.432998 |  210256.83 |   60586.74 |   43254.58 |   78756.81 |   45883.03 |   46132.82 |   45846.09 | ⋯ | 251282.49 | 162884.40 | 163283.208 | 190643.06 | 161425.01 | 210055.10 | 173695.81 | 166887.63 | 194880.15 | 157979.276 |\n",
       "| 4 | 4 | 287.1488 | 4.582337 |  121685.32 |  244454.98 |  174670.13 |  399499.30 |  209844.03 |  192635.99 |  281543.01 | ⋯ |  34880.88 |   7537.60 |   6967.822 |  18044.72 |  17208.66 |  35511.96 |   7723.87 |  11029.29 |  19822.13 |   6731.214 |\n",
       "| 5 | 5 | 113.0599 | 4.588744 |  126796.94 |  371932.47 |  252203.41 |  490816.54 |  229050.26 |  265218.24 |  267816.14 | ⋯ |  79238.33 |  14904.40 |   9153.320 |  33026.94 |  20474.60 | 104629.75 |  10799.78 |  17018.20 |  31673.02 |  12641.380 |\n",
       "| 6 | 6 | 285.1314 | 3.028671 |   88310.82 |  293206.39 |  317457.66 |  290049.64 |  395533.63 |  346493.39 |  455962.94 | ⋯ |  88949.26 |  37876.86 |  60378.004 | 144662.88 |  57392.87 | 131429.12 |  63266.75 |  45327.63 | 136126.57 |  69658.646 |\n",
       "\n"
      ],
      "text/plain": [
       "  row ID row m/z  row retention time CI.V10.2E12.UB_GE12_01_37977.mzXML\n",
       "1 1      309.1310 4.578742           1138474.83                        \n",
       "2 2      353.1574 4.593583            497808.39                        \n",
       "3 3      311.0810 3.432998            210256.83                        \n",
       "4 4      287.1488 4.582337            121685.32                        \n",
       "5 5      113.0599 4.588744            126796.94                        \n",
       "6 6      285.1314 3.028671             88310.82                        \n",
       "  CI.V1.1A2.Blank_GA2_01_37823.mzXML CI.V1.2A2.Blank_GA2_01_37919.mzXML\n",
       "1 1350679.27                         1663354.41                        \n",
       "2  395031.82                          367164.07                        \n",
       "3   60586.74                           43254.58                        \n",
       "4  244454.98                          174670.13                        \n",
       "5  371932.47                          252203.41                        \n",
       "6  293206.39                          317457.66                        \n",
       "  CI.V1.1A7.LB_GA7_01_37828.mzXML CI.V1.3A12.UB_GA12_01_38022.mzXML\n",
       "1 1841587.57                      1949487.29                       \n",
       "2  348340.12                       521272.83                       \n",
       "3   78756.81                        45883.03                       \n",
       "4  399499.30                       209844.03                       \n",
       "5  490816.54                       229050.26                       \n",
       "6  290049.64                       395533.63                       \n",
       "  CI.V1.3A8.Blank_GA8_01_38018.mzXML CI.V1.3A11.C_GA11_01_38021.mzXML ⋯\n",
       "1 1865802.50                         2322706.21                       ⋯\n",
       "2  395125.57                          518559.54                       ⋯\n",
       "3   46132.82                           45846.09                       ⋯\n",
       "4  192635.99                          281543.01                       ⋯\n",
       "5  265218.24                          267816.14                       ⋯\n",
       "6  346493.39                          455962.94                       ⋯\n",
       "  Cl.V9.7E10.LA_GE10_01_38452.mzXML Cl.V9.9G8.CLA_GG8_01_38680.mzXML\n",
       "1 172359.84                          40509.94                       \n",
       "2 495621.00                          55686.40                       \n",
       "3 251282.49                         162884.40                       \n",
       "4  34880.88                           7537.60                       \n",
       "5  79238.33                          14904.40                       \n",
       "6  88949.26                          37876.86                       \n",
       "  Cl.V9.9B7.LB_GB7_01_38617.mzXML Cl.V9.6D11.C_GD11_01_38337.mzXML\n",
       "1  32600.430                      134328.22                       \n",
       "2  28058.704                      215996.21                       \n",
       "3 163283.208                      190643.06                       \n",
       "4   6967.822                       18044.72                       \n",
       "5   9153.320                       33026.94                       \n",
       "6  60378.004                      144662.88                       \n",
       "  Cl.V9.9B3.RA_GB3_01_38613.mzXML Cl.V9.6D9.RA_GD9_01_38335.mzXML\n",
       "1  57743.27                       177192.50                      \n",
       "2  85582.71                       827209.90                      \n",
       "3 161425.01                       210055.10                      \n",
       "4  17208.66                        35511.96                      \n",
       "5  20474.60                       104629.75                      \n",
       "6  57392.87                       131429.12                      \n",
       "  Cl.V9.9B5.C_GB5_01_38615.mzXML Cl.V9.9B4.LA_GB4_01_38614.mzXML\n",
       "1  33423.05                       55365.40                      \n",
       "2  38585.91                       82453.62                      \n",
       "3 173695.81                      166887.63                      \n",
       "4   7723.87                       11029.29                      \n",
       "5  10799.78                       17018.20                      \n",
       "6  63266.75                       45327.63                      \n",
       "  Cl.V9.6D12.UB_GD12_01_38338.mzXML Cl.V9.9B6.UB_GB6_01_38616.mzXML\n",
       "1 151893.85                          33876.118                     \n",
       "2 164472.08                          48714.038                     \n",
       "3 194880.15                         157979.276                     \n",
       "4  19822.13                           6731.214                     \n",
       "5  31673.02                          12641.380                     \n",
       "6 136126.57                          69658.646                     "
      ]
     },
     "metadata": {},
     "output_type": "display_data"
    }
   ],
   "source": [
    "head(ft)"
   ]
  },
  {
   "cell_type": "markdown",
   "metadata": {},
   "source": [
    "rename feature table column names so that they match with metadata"
   ]
  },
  {
   "cell_type": "code",
   "execution_count": 6,
   "metadata": {},
   "outputs": [
    {
     "data": {
      "text/html": [
       "<style>\n",
       ".list-inline {list-style: none; margin:0; padding: 0}\n",
       ".list-inline>li {display: inline-block}\n",
       ".list-inline>li:not(:last-child)::after {content: \"\\00b7\"; padding: 0 .5ex}\n",
       "</style>\n",
       "<ol class=list-inline><li>'row ID'</li><li>'row m/z'</li><li>'row retention time'</li></ol>\n"
      ],
      "text/latex": [
       "\\begin{enumerate*}\n",
       "\\item 'row ID'\n",
       "\\item 'row m/z'\n",
       "\\item 'row retention time'\n",
       "\\end{enumerate*}\n"
      ],
      "text/markdown": [
       "1. 'row ID'\n",
       "2. 'row m/z'\n",
       "3. 'row retention time'\n",
       "\n",
       "\n"
      ],
      "text/plain": [
       "[1] \"row ID\"             \"row m/z\"            \"row retention time\""
      ]
     },
     "metadata": {},
     "output_type": "display_data"
    }
   ],
   "source": [
    "colnames(ft) <- lapply(strsplit(colnames(ft),'_'), '[[', 1)\n",
    "colnames(ft) <- gsub('CI','Cl',colnames(ft))\n",
    "colnames(ft)[-which(colnames(ft) %in% md$`#SampleID`)]"
   ]
  },
  {
   "cell_type": "markdown",
   "metadata": {},
   "source": [
    "load chemical class information"
   ]
  },
  {
   "cell_type": "code",
   "execution_count": 7,
   "metadata": {},
   "outputs": [],
   "source": [
    "cl <- read.table('ClassyFireResults_Network.txt', header = T, sep = '\\t')"
   ]
  },
  {
   "cell_type": "code",
   "execution_count": 8,
   "metadata": {},
   "outputs": [
    {
     "data": {
      "text/html": [
       "<table class=\"dataframe\">\n",
       "<caption>A data.frame: 6 × 15</caption>\n",
       "<thead>\n",
       "\t<tr><th></th><th scope=col>cluster.index</th><th scope=col>CF_componentindex</th><th scope=col>CF_NrNodes</th><th scope=col>CF_kingdom</th><th scope=col>CF_kingdom_score</th><th scope=col>CF_superclass</th><th scope=col>CF_superclass_score</th><th scope=col>CF_class</th><th scope=col>CF_class_score</th><th scope=col>CF_subclass</th><th scope=col>CF_subclass_score</th><th scope=col>CF_Dparent</th><th scope=col>CF_Dparent_score</th><th scope=col>CF_MFramework</th><th scope=col>CF_MFramework_score</th></tr>\n",
       "\t<tr><th></th><th scope=col>&lt;int&gt;</th><th scope=col>&lt;chr&gt;</th><th scope=col>&lt;int&gt;</th><th scope=col>&lt;chr&gt;</th><th scope=col>&lt;dbl&gt;</th><th scope=col>&lt;chr&gt;</th><th scope=col>&lt;dbl&gt;</th><th scope=col>&lt;chr&gt;</th><th scope=col>&lt;dbl&gt;</th><th scope=col>&lt;chr&gt;</th><th scope=col>&lt;dbl&gt;</th><th scope=col>&lt;chr&gt;</th><th scope=col>&lt;dbl&gt;</th><th scope=col>&lt;chr&gt;</th><th scope=col>&lt;dbl&gt;</th></tr>\n",
       "</thead>\n",
       "<tbody>\n",
       "\t<tr><th scope=row>1</th><td> 270</td><td>S1</td><td> 1</td><td>no matches       </td><td>0</td><td>no matches                     </td><td>0.0000000</td><td>no matches                      </td><td>0.0000000</td><td>no matches                          </td><td>0.0000000</td><td>no matches                    </td><td>0.00000000</td><td>no matches                        </td><td>0.0000000</td></tr>\n",
       "\t<tr><th scope=row>2</th><td> 271</td><td>S2</td><td> 1</td><td>no matches       </td><td>0</td><td>no matches                     </td><td>0.0000000</td><td>no matches                      </td><td>0.0000000</td><td>no matches                          </td><td>0.0000000</td><td>no matches                    </td><td>0.00000000</td><td>no matches                        </td><td>0.0000000</td></tr>\n",
       "\t<tr><th scope=row>3</th><td> 272</td><td>S3</td><td> 1</td><td>no matches       </td><td>0</td><td>no matches                     </td><td>0.0000000</td><td>no matches                      </td><td>0.0000000</td><td>no matches                          </td><td>0.0000000</td><td>no matches                    </td><td>0.00000000</td><td>no matches                        </td><td>0.0000000</td></tr>\n",
       "\t<tr><th scope=row>4</th><td> 273</td><td>29</td><td>25</td><td>Organic compounds</td><td>1</td><td>Lipids and lipid-like molecules</td><td>0.5759206</td><td>Steroids and steroid derivatives</td><td>0.2733651</td><td>Bile acids, alcohols and derivatives</td><td>0.1293651</td><td>Lineolic acids and derivatives</td><td>0.09333333</td><td>Aliphatic homopolycyclic compounds</td><td>0.3399048</td></tr>\n",
       "\t<tr><th scope=row>5</th><td> 255</td><td>29</td><td>25</td><td>Organic compounds</td><td>1</td><td>Lipids and lipid-like molecules</td><td>0.5759206</td><td>Steroids and steroid derivatives</td><td>0.2733651</td><td>Bile acids, alcohols and derivatives</td><td>0.1293651</td><td>Lineolic acids and derivatives</td><td>0.09333333</td><td>Aliphatic homopolycyclic compounds</td><td>0.3399048</td></tr>\n",
       "\t<tr><th scope=row>6</th><td>5674</td><td>29</td><td>25</td><td>Organic compounds</td><td>1</td><td>Lipids and lipid-like molecules</td><td>0.5759206</td><td>Steroids and steroid derivatives</td><td>0.2733651</td><td>Bile acids, alcohols and derivatives</td><td>0.1293651</td><td>Lineolic acids and derivatives</td><td>0.09333333</td><td>Aliphatic homopolycyclic compounds</td><td>0.3399048</td></tr>\n",
       "</tbody>\n",
       "</table>\n"
      ],
      "text/latex": [
       "A data.frame: 6 × 15\n",
       "\\begin{tabular}{r|lllllllllllllll}\n",
       "  & cluster.index & CF\\_componentindex & CF\\_NrNodes & CF\\_kingdom & CF\\_kingdom\\_score & CF\\_superclass & CF\\_superclass\\_score & CF\\_class & CF\\_class\\_score & CF\\_subclass & CF\\_subclass\\_score & CF\\_Dparent & CF\\_Dparent\\_score & CF\\_MFramework & CF\\_MFramework\\_score\\\\\n",
       "  & <int> & <chr> & <int> & <chr> & <dbl> & <chr> & <dbl> & <chr> & <dbl> & <chr> & <dbl> & <chr> & <dbl> & <chr> & <dbl>\\\\\n",
       "\\hline\n",
       "\t1 &  270 & S1 &  1 & no matches        & 0 & no matches                      & 0.0000000 & no matches                       & 0.0000000 & no matches                           & 0.0000000 & no matches                     & 0.00000000 & no matches                         & 0.0000000\\\\\n",
       "\t2 &  271 & S2 &  1 & no matches        & 0 & no matches                      & 0.0000000 & no matches                       & 0.0000000 & no matches                           & 0.0000000 & no matches                     & 0.00000000 & no matches                         & 0.0000000\\\\\n",
       "\t3 &  272 & S3 &  1 & no matches        & 0 & no matches                      & 0.0000000 & no matches                       & 0.0000000 & no matches                           & 0.0000000 & no matches                     & 0.00000000 & no matches                         & 0.0000000\\\\\n",
       "\t4 &  273 & 29 & 25 & Organic compounds & 1 & Lipids and lipid-like molecules & 0.5759206 & Steroids and steroid derivatives & 0.2733651 & Bile acids, alcohols and derivatives & 0.1293651 & Lineolic acids and derivatives & 0.09333333 & Aliphatic homopolycyclic compounds & 0.3399048\\\\\n",
       "\t5 &  255 & 29 & 25 & Organic compounds & 1 & Lipids and lipid-like molecules & 0.5759206 & Steroids and steroid derivatives & 0.2733651 & Bile acids, alcohols and derivatives & 0.1293651 & Lineolic acids and derivatives & 0.09333333 & Aliphatic homopolycyclic compounds & 0.3399048\\\\\n",
       "\t6 & 5674 & 29 & 25 & Organic compounds & 1 & Lipids and lipid-like molecules & 0.5759206 & Steroids and steroid derivatives & 0.2733651 & Bile acids, alcohols and derivatives & 0.1293651 & Lineolic acids and derivatives & 0.09333333 & Aliphatic homopolycyclic compounds & 0.3399048\\\\\n",
       "\\end{tabular}\n"
      ],
      "text/markdown": [
       "\n",
       "A data.frame: 6 × 15\n",
       "\n",
       "| <!--/--> | cluster.index &lt;int&gt; | CF_componentindex &lt;chr&gt; | CF_NrNodes &lt;int&gt; | CF_kingdom &lt;chr&gt; | CF_kingdom_score &lt;dbl&gt; | CF_superclass &lt;chr&gt; | CF_superclass_score &lt;dbl&gt; | CF_class &lt;chr&gt; | CF_class_score &lt;dbl&gt; | CF_subclass &lt;chr&gt; | CF_subclass_score &lt;dbl&gt; | CF_Dparent &lt;chr&gt; | CF_Dparent_score &lt;dbl&gt; | CF_MFramework &lt;chr&gt; | CF_MFramework_score &lt;dbl&gt; |\n",
       "|---|---|---|---|---|---|---|---|---|---|---|---|---|---|---|---|\n",
       "| 1 |  270 | S1 |  1 | no matches        | 0 | no matches                      | 0.0000000 | no matches                       | 0.0000000 | no matches                           | 0.0000000 | no matches                     | 0.00000000 | no matches                         | 0.0000000 |\n",
       "| 2 |  271 | S2 |  1 | no matches        | 0 | no matches                      | 0.0000000 | no matches                       | 0.0000000 | no matches                           | 0.0000000 | no matches                     | 0.00000000 | no matches                         | 0.0000000 |\n",
       "| 3 |  272 | S3 |  1 | no matches        | 0 | no matches                      | 0.0000000 | no matches                       | 0.0000000 | no matches                           | 0.0000000 | no matches                     | 0.00000000 | no matches                         | 0.0000000 |\n",
       "| 4 |  273 | 29 | 25 | Organic compounds | 1 | Lipids and lipid-like molecules | 0.5759206 | Steroids and steroid derivatives | 0.2733651 | Bile acids, alcohols and derivatives | 0.1293651 | Lineolic acids and derivatives | 0.09333333 | Aliphatic homopolycyclic compounds | 0.3399048 |\n",
       "| 5 |  255 | 29 | 25 | Organic compounds | 1 | Lipids and lipid-like molecules | 0.5759206 | Steroids and steroid derivatives | 0.2733651 | Bile acids, alcohols and derivatives | 0.1293651 | Lineolic acids and derivatives | 0.09333333 | Aliphatic homopolycyclic compounds | 0.3399048 |\n",
       "| 6 | 5674 | 29 | 25 | Organic compounds | 1 | Lipids and lipid-like molecules | 0.5759206 | Steroids and steroid derivatives | 0.2733651 | Bile acids, alcohols and derivatives | 0.1293651 | Lineolic acids and derivatives | 0.09333333 | Aliphatic homopolycyclic compounds | 0.3399048 |\n",
       "\n"
      ],
      "text/plain": [
       "  cluster.index CF_componentindex CF_NrNodes CF_kingdom        CF_kingdom_score\n",
       "1  270          S1                 1         no matches        0               \n",
       "2  271          S2                 1         no matches        0               \n",
       "3  272          S3                 1         no matches        0               \n",
       "4  273          29                25         Organic compounds 1               \n",
       "5  255          29                25         Organic compounds 1               \n",
       "6 5674          29                25         Organic compounds 1               \n",
       "  CF_superclass                   CF_superclass_score\n",
       "1 no matches                      0.0000000          \n",
       "2 no matches                      0.0000000          \n",
       "3 no matches                      0.0000000          \n",
       "4 Lipids and lipid-like molecules 0.5759206          \n",
       "5 Lipids and lipid-like molecules 0.5759206          \n",
       "6 Lipids and lipid-like molecules 0.5759206          \n",
       "  CF_class                         CF_class_score\n",
       "1 no matches                       0.0000000     \n",
       "2 no matches                       0.0000000     \n",
       "3 no matches                       0.0000000     \n",
       "4 Steroids and steroid derivatives 0.2733651     \n",
       "5 Steroids and steroid derivatives 0.2733651     \n",
       "6 Steroids and steroid derivatives 0.2733651     \n",
       "  CF_subclass                          CF_subclass_score\n",
       "1 no matches                           0.0000000        \n",
       "2 no matches                           0.0000000        \n",
       "3 no matches                           0.0000000        \n",
       "4 Bile acids, alcohols and derivatives 0.1293651        \n",
       "5 Bile acids, alcohols and derivatives 0.1293651        \n",
       "6 Bile acids, alcohols and derivatives 0.1293651        \n",
       "  CF_Dparent                     CF_Dparent_score\n",
       "1 no matches                     0.00000000      \n",
       "2 no matches                     0.00000000      \n",
       "3 no matches                     0.00000000      \n",
       "4 Lineolic acids and derivatives 0.09333333      \n",
       "5 Lineolic acids and derivatives 0.09333333      \n",
       "6 Lineolic acids and derivatives 0.09333333      \n",
       "  CF_MFramework                      CF_MFramework_score\n",
       "1 no matches                         0.0000000          \n",
       "2 no matches                         0.0000000          \n",
       "3 no matches                         0.0000000          \n",
       "4 Aliphatic homopolycyclic compounds 0.3399048          \n",
       "5 Aliphatic homopolycyclic compounds 0.3399048          \n",
       "6 Aliphatic homopolycyclic compounds 0.3399048          "
      ]
     },
     "metadata": {},
     "output_type": "display_data"
    }
   ],
   "source": [
    "head(cl)"
   ]
  },
  {
   "cell_type": "markdown",
   "metadata": {},
   "source": [
    "reformat feature table so that it is ready for downstream analysis"
   ]
  },
  {
   "cell_type": "code",
   "execution_count": 9,
   "metadata": {},
   "outputs": [],
   "source": [
    "ft <- t(ft)\n",
    "colnames(ft) <- ft[1,]\n",
    "ft <- ft[-c(1,2,3),]"
   ]
  },
  {
   "cell_type": "code",
   "execution_count": 10,
   "metadata": {
    "scrolled": true
   },
   "outputs": [
    {
     "data": {
      "text/html": [
       "<table class=\"dataframe\">\n",
       "<caption>A matrix: 6 × 5813 of type dbl</caption>\n",
       "<thead>\n",
       "\t<tr><th></th><th scope=col>1</th><th scope=col>2</th><th scope=col>3</th><th scope=col>4</th><th scope=col>5</th><th scope=col>6</th><th scope=col>7</th><th scope=col>8</th><th scope=col>9</th><th scope=col>10</th><th scope=col>⋯</th><th scope=col>5804</th><th scope=col>5805</th><th scope=col>5806</th><th scope=col>5807</th><th scope=col>5808</th><th scope=col>5809</th><th scope=col>5810</th><th scope=col>5811</th><th scope=col>5812</th><th scope=col>5813</th></tr>\n",
       "</thead>\n",
       "<tbody>\n",
       "\t<tr><th scope=row>Cl.V10.2E12.UB</th><td>1138475</td><td>497808.4</td><td>210256.83</td><td>121685.3</td><td>126796.9</td><td> 88310.82</td><td> 78059.69</td><td> 90706.51</td><td>139948.1</td><td>458312.06</td><td>⋯</td><td>0</td><td>  68.184</td><td> 90.762</td><td>  0.000</td><td>  165.126</td><td>  0.000</td><td>  0.000</td><td> 96.594</td><td>  216.676</td><td>  0.000</td></tr>\n",
       "\t<tr><th scope=row>Cl.V1.1A2.Blank</th><td>1350679</td><td>395031.8</td><td> 60586.74</td><td>244455.0</td><td>371932.5</td><td>293206.39</td><td>333194.66</td><td>402297.07</td><td>140084.1</td><td> 23412.64</td><td>⋯</td><td>0</td><td> 116.536</td><td> 77.088</td><td>122.760</td><td>  498.274</td><td>  0.000</td><td>179.008</td><td>335.640</td><td>  503.186</td><td>174.588</td></tr>\n",
       "\t<tr><th scope=row>Cl.V1.2A2.Blank</th><td>1663354</td><td>367164.1</td><td> 43254.58</td><td>174670.1</td><td>252203.4</td><td>317457.66</td><td>454744.71</td><td>188492.76</td><td>148437.5</td><td> 73313.75</td><td>⋯</td><td>0</td><td> 187.824</td><td>  0.000</td><td>  0.000</td><td> 1029.132</td><td>  0.000</td><td>186.450</td><td>175.708</td><td>  372.656</td><td> 82.270</td></tr>\n",
       "\t<tr><th scope=row>Cl.V1.1A7.LB</th><td>1841588</td><td>348340.1</td><td> 78756.81</td><td>399499.3</td><td>490816.5</td><td>290049.64</td><td>336609.12</td><td>584502.77</td><td>134868.0</td><td> 23808.10</td><td>⋯</td><td>0</td><td>1809.034</td><td>213.332</td><td>643.540</td><td>23549.616</td><td>192.420</td><td>  0.000</td><td>  0.000</td><td>19749.712</td><td>251.696</td></tr>\n",
       "\t<tr><th scope=row>Cl.V1.3A12.UB</th><td>1949487</td><td>521272.8</td><td> 45883.03</td><td>209844.0</td><td>229050.3</td><td>395533.63</td><td>217912.19</td><td>126458.05</td><td>115758.9</td><td>349550.09</td><td>⋯</td><td>0</td><td> 401.590</td><td>  0.000</td><td>377.256</td><td> 2254.768</td><td>965.812</td><td>120.036</td><td>882.650</td><td>  162.292</td><td>278.018</td></tr>\n",
       "\t<tr><th scope=row>Cl.V1.3A8.Blank</th><td>1865803</td><td>395125.6</td><td> 46132.82</td><td>192636.0</td><td>265218.2</td><td>346493.39</td><td>518702.66</td><td>126268.73</td><td>123069.0</td><td> 47934.27</td><td>⋯</td><td>0</td><td> 143.208</td><td> 91.488</td><td>171.240</td><td>  137.232</td><td>120.414</td><td>207.052</td><td>482.496</td><td>  421.514</td><td> 85.590</td></tr>\n",
       "</tbody>\n",
       "</table>\n"
      ],
      "text/latex": [
       "A matrix: 6 × 5813 of type dbl\n",
       "\\begin{tabular}{r|lllllllllllllllllllll}\n",
       "  & 1 & 2 & 3 & 4 & 5 & 6 & 7 & 8 & 9 & 10 & ⋯ & 5804 & 5805 & 5806 & 5807 & 5808 & 5809 & 5810 & 5811 & 5812 & 5813\\\\\n",
       "\\hline\n",
       "\tCl.V10.2E12.UB & 1138475 & 497808.4 & 210256.83 & 121685.3 & 126796.9 &  88310.82 &  78059.69 &  90706.51 & 139948.1 & 458312.06 & ⋯ & 0 &   68.184 &  90.762 &   0.000 &   165.126 &   0.000 &   0.000 &  96.594 &   216.676 &   0.000\\\\\n",
       "\tCl.V1.1A2.Blank & 1350679 & 395031.8 &  60586.74 & 244455.0 & 371932.5 & 293206.39 & 333194.66 & 402297.07 & 140084.1 &  23412.64 & ⋯ & 0 &  116.536 &  77.088 & 122.760 &   498.274 &   0.000 & 179.008 & 335.640 &   503.186 & 174.588\\\\\n",
       "\tCl.V1.2A2.Blank & 1663354 & 367164.1 &  43254.58 & 174670.1 & 252203.4 & 317457.66 & 454744.71 & 188492.76 & 148437.5 &  73313.75 & ⋯ & 0 &  187.824 &   0.000 &   0.000 &  1029.132 &   0.000 & 186.450 & 175.708 &   372.656 &  82.270\\\\\n",
       "\tCl.V1.1A7.LB & 1841588 & 348340.1 &  78756.81 & 399499.3 & 490816.5 & 290049.64 & 336609.12 & 584502.77 & 134868.0 &  23808.10 & ⋯ & 0 & 1809.034 & 213.332 & 643.540 & 23549.616 & 192.420 &   0.000 &   0.000 & 19749.712 & 251.696\\\\\n",
       "\tCl.V1.3A12.UB & 1949487 & 521272.8 &  45883.03 & 209844.0 & 229050.3 & 395533.63 & 217912.19 & 126458.05 & 115758.9 & 349550.09 & ⋯ & 0 &  401.590 &   0.000 & 377.256 &  2254.768 & 965.812 & 120.036 & 882.650 &   162.292 & 278.018\\\\\n",
       "\tCl.V1.3A8.Blank & 1865803 & 395125.6 &  46132.82 & 192636.0 & 265218.2 & 346493.39 & 518702.66 & 126268.73 & 123069.0 &  47934.27 & ⋯ & 0 &  143.208 &  91.488 & 171.240 &   137.232 & 120.414 & 207.052 & 482.496 &   421.514 &  85.590\\\\\n",
       "\\end{tabular}\n"
      ],
      "text/markdown": [
       "\n",
       "A matrix: 6 × 5813 of type dbl\n",
       "\n",
       "| <!--/--> | 1 | 2 | 3 | 4 | 5 | 6 | 7 | 8 | 9 | 10 | ⋯ | 5804 | 5805 | 5806 | 5807 | 5808 | 5809 | 5810 | 5811 | 5812 | 5813 |\n",
       "|---|---|---|---|---|---|---|---|---|---|---|---|---|---|---|---|---|---|---|---|---|---|\n",
       "| Cl.V10.2E12.UB | 1138475 | 497808.4 | 210256.83 | 121685.3 | 126796.9 |  88310.82 |  78059.69 |  90706.51 | 139948.1 | 458312.06 | ⋯ | 0 |   68.184 |  90.762 |   0.000 |   165.126 |   0.000 |   0.000 |  96.594 |   216.676 |   0.000 |\n",
       "| Cl.V1.1A2.Blank | 1350679 | 395031.8 |  60586.74 | 244455.0 | 371932.5 | 293206.39 | 333194.66 | 402297.07 | 140084.1 |  23412.64 | ⋯ | 0 |  116.536 |  77.088 | 122.760 |   498.274 |   0.000 | 179.008 | 335.640 |   503.186 | 174.588 |\n",
       "| Cl.V1.2A2.Blank | 1663354 | 367164.1 |  43254.58 | 174670.1 | 252203.4 | 317457.66 | 454744.71 | 188492.76 | 148437.5 |  73313.75 | ⋯ | 0 |  187.824 |   0.000 |   0.000 |  1029.132 |   0.000 | 186.450 | 175.708 |   372.656 |  82.270 |\n",
       "| Cl.V1.1A7.LB | 1841588 | 348340.1 |  78756.81 | 399499.3 | 490816.5 | 290049.64 | 336609.12 | 584502.77 | 134868.0 |  23808.10 | ⋯ | 0 | 1809.034 | 213.332 | 643.540 | 23549.616 | 192.420 |   0.000 |   0.000 | 19749.712 | 251.696 |\n",
       "| Cl.V1.3A12.UB | 1949487 | 521272.8 |  45883.03 | 209844.0 | 229050.3 | 395533.63 | 217912.19 | 126458.05 | 115758.9 | 349550.09 | ⋯ | 0 |  401.590 |   0.000 | 377.256 |  2254.768 | 965.812 | 120.036 | 882.650 |   162.292 | 278.018 |\n",
       "| Cl.V1.3A8.Blank | 1865803 | 395125.6 |  46132.82 | 192636.0 | 265218.2 | 346493.39 | 518702.66 | 126268.73 | 123069.0 |  47934.27 | ⋯ | 0 |  143.208 |  91.488 | 171.240 |   137.232 | 120.414 | 207.052 | 482.496 |   421.514 |  85.590 |\n",
       "\n"
      ],
      "text/plain": [
       "                1       2        3         4        5        6        \n",
       "Cl.V10.2E12.UB  1138475 497808.4 210256.83 121685.3 126796.9  88310.82\n",
       "Cl.V1.1A2.Blank 1350679 395031.8  60586.74 244455.0 371932.5 293206.39\n",
       "Cl.V1.2A2.Blank 1663354 367164.1  43254.58 174670.1 252203.4 317457.66\n",
       "Cl.V1.1A7.LB    1841588 348340.1  78756.81 399499.3 490816.5 290049.64\n",
       "Cl.V1.3A12.UB   1949487 521272.8  45883.03 209844.0 229050.3 395533.63\n",
       "Cl.V1.3A8.Blank 1865803 395125.6  46132.82 192636.0 265218.2 346493.39\n",
       "                7         8         9        10        ⋯ 5804 5805     5806   \n",
       "Cl.V10.2E12.UB   78059.69  90706.51 139948.1 458312.06 ⋯ 0      68.184  90.762\n",
       "Cl.V1.1A2.Blank 333194.66 402297.07 140084.1  23412.64 ⋯ 0     116.536  77.088\n",
       "Cl.V1.2A2.Blank 454744.71 188492.76 148437.5  73313.75 ⋯ 0     187.824   0.000\n",
       "Cl.V1.1A7.LB    336609.12 584502.77 134868.0  23808.10 ⋯ 0    1809.034 213.332\n",
       "Cl.V1.3A12.UB   217912.19 126458.05 115758.9 349550.09 ⋯ 0     401.590   0.000\n",
       "Cl.V1.3A8.Blank 518702.66 126268.73 123069.0  47934.27 ⋯ 0     143.208  91.488\n",
       "                5807    5808      5809    5810    5811    5812      5813   \n",
       "Cl.V10.2E12.UB    0.000   165.126   0.000   0.000  96.594   216.676   0.000\n",
       "Cl.V1.1A2.Blank 122.760   498.274   0.000 179.008 335.640   503.186 174.588\n",
       "Cl.V1.2A2.Blank   0.000  1029.132   0.000 186.450 175.708   372.656  82.270\n",
       "Cl.V1.1A7.LB    643.540 23549.616 192.420   0.000   0.000 19749.712 251.696\n",
       "Cl.V1.3A12.UB   377.256  2254.768 965.812 120.036 882.650   162.292 278.018\n",
       "Cl.V1.3A8.Blank 171.240   137.232 120.414 207.052 482.496   421.514  85.590"
      ]
     },
     "metadata": {},
     "output_type": "display_data"
    }
   ],
   "source": [
    "head(ft)"
   ]
  },
  {
   "cell_type": "markdown",
   "metadata": {},
   "source": [
    "check whether rownames in feature table correspond to sample names in metadata"
   ]
  },
  {
   "cell_type": "code",
   "execution_count": 11,
   "metadata": {},
   "outputs": [
    {
     "data": {
      "text/html": [
       "TRUE"
      ],
      "text/latex": [
       "TRUE"
      ],
      "text/markdown": [
       "TRUE"
      ],
      "text/plain": [
       "[1] TRUE"
      ]
     },
     "metadata": {},
     "output_type": "display_data"
    }
   ],
   "source": [
    "md <- md[which(md$'#SampleID' %in% rownames(ft)),]\n",
    "md <- md[match(rownames(ft),md$'#SampleID'),]\n",
    "identical(as.character(md$'#SampleID'),as.character(rownames(ft)))"
   ]
  },
  {
   "cell_type": "markdown",
   "metadata": {},
   "source": [
    "select only samples from left and right armpits respectively"
   ]
  },
  {
   "cell_type": "code",
   "execution_count": 12,
   "metadata": {},
   "outputs": [],
   "source": [
    "l <- which(md$sample_site %in% c('Left armpit', 'Right armpit'))\n",
    "md <- md[l,]\n",
    "ft <- ft[l,]"
   ]
  },
  {
   "cell_type": "markdown",
   "metadata": {},
   "source": [
    "check whether rownames in feature table still correspond to sample names in metadata"
   ]
  },
  {
   "cell_type": "code",
   "execution_count": 13,
   "metadata": {},
   "outputs": [
    {
     "data": {
      "text/html": [
       "TRUE"
      ],
      "text/latex": [
       "TRUE"
      ],
      "text/markdown": [
       "TRUE"
      ],
      "text/plain": [
       "[1] TRUE"
      ]
     },
     "metadata": {},
     "output_type": "display_data"
    }
   ],
   "source": [
    "identical(as.character(md$'#SampleID'),as.character(rownames(ft)))"
   ]
  },
  {
   "cell_type": "markdown",
   "metadata": {},
   "source": [
    "check how many samples there are in total from left and right armpits respectively"
   ]
  },
  {
   "cell_type": "code",
   "execution_count": 14,
   "metadata": {},
   "outputs": [
    {
     "data": {
      "text/plain": [
       "\n",
       " Left armpit Right armpit \n",
       "         119          119 "
      ]
     },
     "metadata": {},
     "output_type": "display_data"
    }
   ],
   "source": [
    "table(md$sample_site)"
   ]
  },
  {
   "cell_type": "markdown",
   "metadata": {},
   "source": [
    "## Find differentially abundant metabolite features across left and right armpits"
   ]
  },
  {
   "cell_type": "markdown",
   "metadata": {},
   "source": [
    "select metadata column, across which differential abundance should be tested"
   ]
  },
  {
   "cell_type": "code",
   "execution_count": 15,
   "metadata": {},
   "outputs": [],
   "source": [
    "catscont <- md$sample_site"
   ]
  },
  {
   "cell_type": "markdown",
   "metadata": {},
   "source": [
    "scale feature table"
   ]
  },
  {
   "cell_type": "code",
   "execution_count": 16,
   "metadata": {},
   "outputs": [],
   "source": [
    "fts <- scale(ft)"
   ]
  },
  {
   "cell_type": "markdown",
   "metadata": {},
   "source": [
    "perform a Kruskal–Wallis test for one metabolite feature"
   ]
  },
  {
   "cell_type": "code",
   "execution_count": 17,
   "metadata": {},
   "outputs": [
    {
     "data": {
      "text/plain": [
       "\n",
       "\tKruskal-Wallis rank sum test\n",
       "\n",
       "data:  fts[, 2] by as.factor(catscont)\n",
       "Kruskal-Wallis chi-squared = 4.3434e-05, df = 1, p-value = 0.9947\n"
      ]
     },
     "metadata": {},
     "output_type": "display_data"
    }
   ],
   "source": [
    "kruskal.test(fts[,2] ~ as.factor(catscont))"
   ]
  },
  {
   "cell_type": "markdown",
   "metadata": {},
   "source": [
    "perform a Kruskal-Wallis test across all features and adjust for multiple hypothesis testing using the false discovery rate (FDR) method"
   ]
  },
  {
   "cell_type": "code",
   "execution_count": 18,
   "metadata": {},
   "outputs": [],
   "source": [
    "krusk <- function (x) {\n",
    "  out <- tryCatch(unlist(kruskal.test(fts[,x] ~ as.factor(catscont))[c(\"p.value\")]), error = function(e) return(NA))\n",
    "  return(out)\n",
    "}"
   ]
  },
  {
   "cell_type": "code",
   "execution_count": 19,
   "metadata": {},
   "outputs": [],
   "source": [
    "res <- t(sapply(1:ncol(fts), krusk ))\n",
    "res <- cbind(unlist(res[1,]),p.adjust(unlist(res[1,]), method = \"fdr\"))"
   ]
  },
  {
   "cell_type": "code",
   "execution_count": 20,
   "metadata": {},
   "outputs": [],
   "source": [
    "rownames(res) <- colnames(fts)\n",
    "res <- cbind(res,rownames(res))\n",
    "colnames(res) <- c('p.value','p.value.corrected', 'cluster id')"
   ]
  },
  {
   "cell_type": "markdown",
   "metadata": {},
   "source": [
    "show all significantly differentially abundant metabolite features"
   ]
  },
  {
   "cell_type": "code",
   "execution_count": 21,
   "metadata": {},
   "outputs": [
    {
     "data": {
      "text/html": [
       "<table class=\"dataframe\">\n",
       "<caption>A matrix: 6 × 3 of type chr</caption>\n",
       "<thead>\n",
       "\t<tr><th></th><th scope=col>p.value</th><th scope=col>p.value.corrected</th><th scope=col>cluster id</th></tr>\n",
       "</thead>\n",
       "<tbody>\n",
       "\t<tr><th scope=row>388</th><td>1.30044500899981e-05</td><td>0.000140805935373681</td><td>388</td></tr>\n",
       "\t<tr><th scope=row>544</th><td>0.00528930904549445 </td><td>0.044968233898285   </td><td>544</td></tr>\n",
       "\t<tr><th scope=row>594</th><td>0.0057060992749265  </td><td>0.048302994922749   </td><td>594</td></tr>\n",
       "\t<tr><th scope=row>658</th><td>0.00295564086405189 </td><td>0.0259640967098395  </td><td>658</td></tr>\n",
       "\t<tr><th scope=row>691</th><td>0.00227924474134034 </td><td>0.0203746245917895  </td><td>691</td></tr>\n",
       "\t<tr><th scope=row>821</th><td>0.000192029175946292</td><td>0.001933093704526   </td><td>821</td></tr>\n",
       "</tbody>\n",
       "</table>\n"
      ],
      "text/latex": [
       "A matrix: 6 × 3 of type chr\n",
       "\\begin{tabular}{r|lll}\n",
       "  & p.value & p.value.corrected & cluster id\\\\\n",
       "\\hline\n",
       "\t388 & 1.30044500899981e-05 & 0.000140805935373681 & 388\\\\\n",
       "\t544 & 0.00528930904549445  & 0.044968233898285    & 544\\\\\n",
       "\t594 & 0.0057060992749265   & 0.048302994922749    & 594\\\\\n",
       "\t658 & 0.00295564086405189  & 0.0259640967098395   & 658\\\\\n",
       "\t691 & 0.00227924474134034  & 0.0203746245917895   & 691\\\\\n",
       "\t821 & 0.000192029175946292 & 0.001933093704526    & 821\\\\\n",
       "\\end{tabular}\n"
      ],
      "text/markdown": [
       "\n",
       "A matrix: 6 × 3 of type chr\n",
       "\n",
       "| <!--/--> | p.value | p.value.corrected | cluster id |\n",
       "|---|---|---|---|\n",
       "| 388 | 1.30044500899981e-05 | 0.000140805935373681 | 388 |\n",
       "| 544 | 0.00528930904549445  | 0.044968233898285    | 544 |\n",
       "| 594 | 0.0057060992749265   | 0.048302994922749    | 594 |\n",
       "| 658 | 0.00295564086405189  | 0.0259640967098395   | 658 |\n",
       "| 691 | 0.00227924474134034  | 0.0203746245917895   | 691 |\n",
       "| 821 | 0.000192029175946292 | 0.001933093704526    | 821 |\n",
       "\n"
      ],
      "text/plain": [
       "    p.value              p.value.corrected    cluster id\n",
       "388 1.30044500899981e-05 0.000140805935373681 388       \n",
       "544 0.00528930904549445  0.044968233898285    544       \n",
       "594 0.0057060992749265   0.048302994922749    594       \n",
       "658 0.00295564086405189  0.0259640967098395   658       \n",
       "691 0.00227924474134034  0.0203746245917895   691       \n",
       "821 0.000192029175946292 0.001933093704526    821       "
      ]
     },
     "metadata": {},
     "output_type": "display_data"
    }
   ],
   "source": [
    "head(res[which(res[,2] <= 0.05),])"
   ]
  },
  {
   "cell_type": "markdown",
   "metadata": {},
   "source": [
    "write out differentially abundant features as table"
   ]
  },
  {
   "cell_type": "code",
   "execution_count": 22,
   "metadata": {},
   "outputs": [],
   "source": [
    "sigres <- res[which(res[,2] <= 0.05),]"
   ]
  },
  {
   "cell_type": "code",
   "execution_count": 23,
   "metadata": {},
   "outputs": [],
   "source": [
    "write.table(sigres,'Kruskal_significantfeatures.txt', row.names = F, quote = F, sep = '\\t')"
   ]
  },
  {
   "cell_type": "markdown",
   "metadata": {},
   "source": [
    "save significant feature id's in a vector"
   ]
  },
  {
   "cell_type": "code",
   "execution_count": 24,
   "metadata": {},
   "outputs": [],
   "source": [
    "sigids <- as.vector(res[which(res[,2] <= 0.05),3])"
   ]
  },
  {
   "cell_type": "code",
   "execution_count": 25,
   "metadata": {},
   "outputs": [
    {
     "data": {
      "text/html": [
       "152"
      ],
      "text/latex": [
       "152"
      ],
      "text/markdown": [
       "152"
      ],
      "text/plain": [
       "[1] 152"
      ]
     },
     "metadata": {},
     "output_type": "display_data"
    }
   ],
   "source": [
    "length(sigids)"
   ]
  },
  {
   "cell_type": "markdown",
   "metadata": {},
   "source": [
    "## Create heatmap of differentially abundant metabolite features across left and right armpits"
   ]
  },
  {
   "cell_type": "markdown",
   "metadata": {},
   "source": [
    "select only features, which were significantly differentially abundnant across left and right armpits"
   ]
  },
  {
   "cell_type": "code",
   "execution_count": 26,
   "metadata": {},
   "outputs": [],
   "source": [
    "fts <- fts[,which(colnames(fts) %in% sigids)]"
   ]
  },
  {
   "cell_type": "code",
   "execution_count": 27,
   "metadata": {},
   "outputs": [
    {
     "data": {
      "text/html": [
       "<table class=\"dataframe\">\n",
       "<caption>A matrix: 6 × 152 of type dbl</caption>\n",
       "<thead>\n",
       "\t<tr><th></th><th scope=col>388</th><th scope=col>544</th><th scope=col>594</th><th scope=col>658</th><th scope=col>691</th><th scope=col>821</th><th scope=col>822</th><th scope=col>918</th><th scope=col>941</th><th scope=col>944</th><th scope=col>⋯</th><th scope=col>5609</th><th scope=col>5628</th><th scope=col>5634</th><th scope=col>5635</th><th scope=col>5638</th><th scope=col>5641</th><th scope=col>5668</th><th scope=col>5712</th><th scope=col>5725</th><th scope=col>5739</th></tr>\n",
       "</thead>\n",
       "<tbody>\n",
       "\t<tr><th scope=row>Cl.V11.3F3.RA</th><td>-0.2495544</td><td>-0.3007473</td><td>-0.4957239</td><td>-0.2855613</td><td>-0.148792</td><td>-0.58141102</td><td>-0.1596536</td><td>-0.1608571</td><td>-0.20201602</td><td>-0.2029465</td><td>⋯</td><td>-0.3512186</td><td>-0.5654462</td><td>-0.12277661</td><td>-0.1227839</td><td>-0.7557996</td><td>-0.35359375</td><td>-0.33493676</td><td>-0.2661660</td><td>-0.5202949</td><td>-0.71032193</td></tr>\n",
       "\t<tr><th scope=row>Cl.V10.3D9.RA</th><td>-0.3278642</td><td>-0.3058482</td><td>-0.4723357</td><td> 0.1051639</td><td>-0.148792</td><td>-0.58141102</td><td>-0.8451370</td><td>-0.1608571</td><td>-0.20201602</td><td>-0.1998676</td><td>⋯</td><td>-0.6776061</td><td>-0.5579758</td><td>-0.05552286</td><td>-0.1339228</td><td> 0.4868272</td><td>-0.27055706</td><td> 1.36410129</td><td>-0.2991921</td><td>-0.4812529</td><td>-0.69921637</td></tr>\n",
       "\t<tr><th scope=row>Cl.V1.3A9.RA</th><td>-0.8138697</td><td>-0.3195278</td><td>-0.2665026</td><td> 0.9780695</td><td>-0.148792</td><td> 0.29027953</td><td> 0.6571625</td><td>-0.1608571</td><td>-0.20201602</td><td>-0.2075552</td><td>⋯</td><td>-0.4945315</td><td>-0.6878880</td><td> 1.42070882</td><td> 1.6690732</td><td> 0.6460898</td><td> 0.04362123</td><td> 1.12878338</td><td>-0.2991921</td><td>-0.6141586</td><td>-0.33227465</td></tr>\n",
       "\t<tr><th scope=row>Cl.V1.3A10.LA</th><td> 0.1738009</td><td>-0.3139451</td><td>-0.2623728</td><td>-0.2306412</td><td>-0.148792</td><td> 0.77890105</td><td>-0.1349591</td><td> 4.1264996</td><td> 0.08418565</td><td>-0.2075552</td><td>⋯</td><td>-0.5836184</td><td>-0.4171631</td><td> 0.43468329</td><td>-0.1234270</td><td>-0.7557996</td><td> 0.02772715</td><td> 0.15202509</td><td>-0.2991921</td><td>-0.3225409</td><td> 0.06636956</td></tr>\n",
       "\t<tr><th scope=row>Cl.V1.2A3.RA</th><td>-0.6483889</td><td>-0.2272825</td><td> 1.1964990</td><td>-0.3730744</td><td>-0.148792</td><td> 0.11131513</td><td>-0.4454225</td><td>-0.1608571</td><td>-0.20201602</td><td>-0.2075552</td><td>⋯</td><td>-0.3944526</td><td>-0.6903316</td><td>-0.18734440</td><td>-0.1349180</td><td>-0.7557996</td><td>-0.24580574</td><td> 0.08061806</td><td>-0.2991921</td><td>-0.5717439</td><td>-0.45632387</td></tr>\n",
       "\t<tr><th scope=row>Cl.V1.1A3.RA</th><td>-0.3265230</td><td> 1.0354189</td><td> 1.2228973</td><td>-0.3995058</td><td>-0.148792</td><td>-0.05703315</td><td> 0.7946307</td><td>-0.1608571</td><td>-0.20201602</td><td>-0.2075552</td><td>⋯</td><td>-0.5109005</td><td>-0.2027348</td><td>-0.14315676</td><td>-0.1891579</td><td>-0.7557996</td><td>-0.15792220</td><td>-0.33493676</td><td>-0.2991921</td><td>-0.3409560</td><td>-0.43897123</td></tr>\n",
       "</tbody>\n",
       "</table>\n"
      ],
      "text/latex": [
       "A matrix: 6 × 152 of type dbl\n",
       "\\begin{tabular}{r|lllllllllllllllllllll}\n",
       "  & 388 & 544 & 594 & 658 & 691 & 821 & 822 & 918 & 941 & 944 & ⋯ & 5609 & 5628 & 5634 & 5635 & 5638 & 5641 & 5668 & 5712 & 5725 & 5739\\\\\n",
       "\\hline\n",
       "\tCl.V11.3F3.RA & -0.2495544 & -0.3007473 & -0.4957239 & -0.2855613 & -0.148792 & -0.58141102 & -0.1596536 & -0.1608571 & -0.20201602 & -0.2029465 & ⋯ & -0.3512186 & -0.5654462 & -0.12277661 & -0.1227839 & -0.7557996 & -0.35359375 & -0.33493676 & -0.2661660 & -0.5202949 & -0.71032193\\\\\n",
       "\tCl.V10.3D9.RA & -0.3278642 & -0.3058482 & -0.4723357 &  0.1051639 & -0.148792 & -0.58141102 & -0.8451370 & -0.1608571 & -0.20201602 & -0.1998676 & ⋯ & -0.6776061 & -0.5579758 & -0.05552286 & -0.1339228 &  0.4868272 & -0.27055706 &  1.36410129 & -0.2991921 & -0.4812529 & -0.69921637\\\\\n",
       "\tCl.V1.3A9.RA & -0.8138697 & -0.3195278 & -0.2665026 &  0.9780695 & -0.148792 &  0.29027953 &  0.6571625 & -0.1608571 & -0.20201602 & -0.2075552 & ⋯ & -0.4945315 & -0.6878880 &  1.42070882 &  1.6690732 &  0.6460898 &  0.04362123 &  1.12878338 & -0.2991921 & -0.6141586 & -0.33227465\\\\\n",
       "\tCl.V1.3A10.LA &  0.1738009 & -0.3139451 & -0.2623728 & -0.2306412 & -0.148792 &  0.77890105 & -0.1349591 &  4.1264996 &  0.08418565 & -0.2075552 & ⋯ & -0.5836184 & -0.4171631 &  0.43468329 & -0.1234270 & -0.7557996 &  0.02772715 &  0.15202509 & -0.2991921 & -0.3225409 &  0.06636956\\\\\n",
       "\tCl.V1.2A3.RA & -0.6483889 & -0.2272825 &  1.1964990 & -0.3730744 & -0.148792 &  0.11131513 & -0.4454225 & -0.1608571 & -0.20201602 & -0.2075552 & ⋯ & -0.3944526 & -0.6903316 & -0.18734440 & -0.1349180 & -0.7557996 & -0.24580574 &  0.08061806 & -0.2991921 & -0.5717439 & -0.45632387\\\\\n",
       "\tCl.V1.1A3.RA & -0.3265230 &  1.0354189 &  1.2228973 & -0.3995058 & -0.148792 & -0.05703315 &  0.7946307 & -0.1608571 & -0.20201602 & -0.2075552 & ⋯ & -0.5109005 & -0.2027348 & -0.14315676 & -0.1891579 & -0.7557996 & -0.15792220 & -0.33493676 & -0.2991921 & -0.3409560 & -0.43897123\\\\\n",
       "\\end{tabular}\n"
      ],
      "text/markdown": [
       "\n",
       "A matrix: 6 × 152 of type dbl\n",
       "\n",
       "| <!--/--> | 388 | 544 | 594 | 658 | 691 | 821 | 822 | 918 | 941 | 944 | ⋯ | 5609 | 5628 | 5634 | 5635 | 5638 | 5641 | 5668 | 5712 | 5725 | 5739 |\n",
       "|---|---|---|---|---|---|---|---|---|---|---|---|---|---|---|---|---|---|---|---|---|---|\n",
       "| Cl.V11.3F3.RA | -0.2495544 | -0.3007473 | -0.4957239 | -0.2855613 | -0.148792 | -0.58141102 | -0.1596536 | -0.1608571 | -0.20201602 | -0.2029465 | ⋯ | -0.3512186 | -0.5654462 | -0.12277661 | -0.1227839 | -0.7557996 | -0.35359375 | -0.33493676 | -0.2661660 | -0.5202949 | -0.71032193 |\n",
       "| Cl.V10.3D9.RA | -0.3278642 | -0.3058482 | -0.4723357 |  0.1051639 | -0.148792 | -0.58141102 | -0.8451370 | -0.1608571 | -0.20201602 | -0.1998676 | ⋯ | -0.6776061 | -0.5579758 | -0.05552286 | -0.1339228 |  0.4868272 | -0.27055706 |  1.36410129 | -0.2991921 | -0.4812529 | -0.69921637 |\n",
       "| Cl.V1.3A9.RA | -0.8138697 | -0.3195278 | -0.2665026 |  0.9780695 | -0.148792 |  0.29027953 |  0.6571625 | -0.1608571 | -0.20201602 | -0.2075552 | ⋯ | -0.4945315 | -0.6878880 |  1.42070882 |  1.6690732 |  0.6460898 |  0.04362123 |  1.12878338 | -0.2991921 | -0.6141586 | -0.33227465 |\n",
       "| Cl.V1.3A10.LA |  0.1738009 | -0.3139451 | -0.2623728 | -0.2306412 | -0.148792 |  0.77890105 | -0.1349591 |  4.1264996 |  0.08418565 | -0.2075552 | ⋯ | -0.5836184 | -0.4171631 |  0.43468329 | -0.1234270 | -0.7557996 |  0.02772715 |  0.15202509 | -0.2991921 | -0.3225409 |  0.06636956 |\n",
       "| Cl.V1.2A3.RA | -0.6483889 | -0.2272825 |  1.1964990 | -0.3730744 | -0.148792 |  0.11131513 | -0.4454225 | -0.1608571 | -0.20201602 | -0.2075552 | ⋯ | -0.3944526 | -0.6903316 | -0.18734440 | -0.1349180 | -0.7557996 | -0.24580574 |  0.08061806 | -0.2991921 | -0.5717439 | -0.45632387 |\n",
       "| Cl.V1.1A3.RA | -0.3265230 |  1.0354189 |  1.2228973 | -0.3995058 | -0.148792 | -0.05703315 |  0.7946307 | -0.1608571 | -0.20201602 | -0.2075552 | ⋯ | -0.5109005 | -0.2027348 | -0.14315676 | -0.1891579 | -0.7557996 | -0.15792220 | -0.33493676 | -0.2991921 | -0.3409560 | -0.43897123 |\n",
       "\n"
      ],
      "text/plain": [
       "              388        544        594        658        691       821        \n",
       "Cl.V11.3F3.RA -0.2495544 -0.3007473 -0.4957239 -0.2855613 -0.148792 -0.58141102\n",
       "Cl.V10.3D9.RA -0.3278642 -0.3058482 -0.4723357  0.1051639 -0.148792 -0.58141102\n",
       "Cl.V1.3A9.RA  -0.8138697 -0.3195278 -0.2665026  0.9780695 -0.148792  0.29027953\n",
       "Cl.V1.3A10.LA  0.1738009 -0.3139451 -0.2623728 -0.2306412 -0.148792  0.77890105\n",
       "Cl.V1.2A3.RA  -0.6483889 -0.2272825  1.1964990 -0.3730744 -0.148792  0.11131513\n",
       "Cl.V1.1A3.RA  -0.3265230  1.0354189  1.2228973 -0.3995058 -0.148792 -0.05703315\n",
       "              822        918        941         944        ⋯ 5609      \n",
       "Cl.V11.3F3.RA -0.1596536 -0.1608571 -0.20201602 -0.2029465 ⋯ -0.3512186\n",
       "Cl.V10.3D9.RA -0.8451370 -0.1608571 -0.20201602 -0.1998676 ⋯ -0.6776061\n",
       "Cl.V1.3A9.RA   0.6571625 -0.1608571 -0.20201602 -0.2075552 ⋯ -0.4945315\n",
       "Cl.V1.3A10.LA -0.1349591  4.1264996  0.08418565 -0.2075552 ⋯ -0.5836184\n",
       "Cl.V1.2A3.RA  -0.4454225 -0.1608571 -0.20201602 -0.2075552 ⋯ -0.3944526\n",
       "Cl.V1.1A3.RA   0.7946307 -0.1608571 -0.20201602 -0.2075552 ⋯ -0.5109005\n",
       "              5628       5634        5635       5638       5641       \n",
       "Cl.V11.3F3.RA -0.5654462 -0.12277661 -0.1227839 -0.7557996 -0.35359375\n",
       "Cl.V10.3D9.RA -0.5579758 -0.05552286 -0.1339228  0.4868272 -0.27055706\n",
       "Cl.V1.3A9.RA  -0.6878880  1.42070882  1.6690732  0.6460898  0.04362123\n",
       "Cl.V1.3A10.LA -0.4171631  0.43468329 -0.1234270 -0.7557996  0.02772715\n",
       "Cl.V1.2A3.RA  -0.6903316 -0.18734440 -0.1349180 -0.7557996 -0.24580574\n",
       "Cl.V1.1A3.RA  -0.2027348 -0.14315676 -0.1891579 -0.7557996 -0.15792220\n",
       "              5668        5712       5725       5739       \n",
       "Cl.V11.3F3.RA -0.33493676 -0.2661660 -0.5202949 -0.71032193\n",
       "Cl.V10.3D9.RA  1.36410129 -0.2991921 -0.4812529 -0.69921637\n",
       "Cl.V1.3A9.RA   1.12878338 -0.2991921 -0.6141586 -0.33227465\n",
       "Cl.V1.3A10.LA  0.15202509 -0.2991921 -0.3225409  0.06636956\n",
       "Cl.V1.2A3.RA   0.08061806 -0.2991921 -0.5717439 -0.45632387\n",
       "Cl.V1.1A3.RA  -0.33493676 -0.2991921 -0.3409560 -0.43897123"
      ]
     },
     "metadata": {},
     "output_type": "display_data"
    },
    {
     "data": {
      "text/html": [
       "<style>\n",
       ".list-inline {list-style: none; margin:0; padding: 0}\n",
       ".list-inline>li {display: inline-block}\n",
       ".list-inline>li:not(:last-child)::after {content: \"\\00b7\"; padding: 0 .5ex}\n",
       "</style>\n",
       "<ol class=list-inline><li>238</li><li>152</li></ol>\n"
      ],
      "text/latex": [
       "\\begin{enumerate*}\n",
       "\\item 238\n",
       "\\item 152\n",
       "\\end{enumerate*}\n"
      ],
      "text/markdown": [
       "1. 238\n",
       "2. 152\n",
       "\n",
       "\n"
      ],
      "text/plain": [
       "[1] 238 152"
      ]
     },
     "metadata": {},
     "output_type": "display_data"
    }
   ],
   "source": [
    "head(fts)\n",
    "dim(fts)"
   ]
  },
  {
   "cell_type": "markdown",
   "metadata": {},
   "source": [
    "select putative chemical classes of features that were differentially abundant"
   ]
  },
  {
   "cell_type": "code",
   "execution_count": 28,
   "metadata": {},
   "outputs": [],
   "source": [
    "cl <- cl[which(cl$cluster.index %in% colnames(fts)),]"
   ]
  },
  {
   "cell_type": "code",
   "execution_count": 29,
   "metadata": {},
   "outputs": [
    {
     "data": {
      "text/html": [
       "<style>\n",
       ".list-inline {list-style: none; margin:0; padding: 0}\n",
       ".list-inline>li {display: inline-block}\n",
       ".list-inline>li:not(:last-child)::after {content: \"\\00b7\"; padding: 0 .5ex}\n",
       "</style>\n",
       "<ol class=list-inline><li>152</li><li>15</li></ol>\n"
      ],
      "text/latex": [
       "\\begin{enumerate*}\n",
       "\\item 152\n",
       "\\item 15\n",
       "\\end{enumerate*}\n"
      ],
      "text/markdown": [
       "1. 152\n",
       "2. 15\n",
       "\n",
       "\n"
      ],
      "text/plain": [
       "[1] 152  15"
      ]
     },
     "metadata": {},
     "output_type": "display_data"
    }
   ],
   "source": [
    "dim(cl)"
   ]
  },
  {
   "cell_type": "code",
   "execution_count": 30,
   "metadata": {},
   "outputs": [
    {
     "data": {
      "text/html": [
       "<style>\n",
       ".list-inline {list-style: none; margin:0; padding: 0}\n",
       ".list-inline>li {display: inline-block}\n",
       ".list-inline>li:not(:last-child)::after {content: \"\\00b7\"; padding: 0 .5ex}\n",
       "</style>\n",
       "<ol class=list-inline><li>'Prenol lipids'</li><li>'Glycerophospholipids'</li><li>'Steroids and steroid derivatives'</li><li>'no matches'</li><li>'Fatty Acyls'</li><li>'Purine nucleotides'</li><li>'Carboxylic acids and derivatives'</li><li>'Depsides and depsidones'</li><li>'Organonitrogen compounds'</li><li>'Indoles and derivatives'</li></ol>\n"
      ],
      "text/latex": [
       "\\begin{enumerate*}\n",
       "\\item 'Prenol lipids'\n",
       "\\item 'Glycerophospholipids'\n",
       "\\item 'Steroids and steroid derivatives'\n",
       "\\item 'no matches'\n",
       "\\item 'Fatty Acyls'\n",
       "\\item 'Purine nucleotides'\n",
       "\\item 'Carboxylic acids and derivatives'\n",
       "\\item 'Depsides and depsidones'\n",
       "\\item 'Organonitrogen compounds'\n",
       "\\item 'Indoles and derivatives'\n",
       "\\end{enumerate*}\n"
      ],
      "text/markdown": [
       "1. 'Prenol lipids'\n",
       "2. 'Glycerophospholipids'\n",
       "3. 'Steroids and steroid derivatives'\n",
       "4. 'no matches'\n",
       "5. 'Fatty Acyls'\n",
       "6. 'Purine nucleotides'\n",
       "7. 'Carboxylic acids and derivatives'\n",
       "8. 'Depsides and depsidones'\n",
       "9. 'Organonitrogen compounds'\n",
       "10. 'Indoles and derivatives'\n",
       "\n",
       "\n"
      ],
      "text/plain": [
       " [1] \"Prenol lipids\"                    \"Glycerophospholipids\"            \n",
       " [3] \"Steroids and steroid derivatives\" \"no matches\"                      \n",
       " [5] \"Fatty Acyls\"                      \"Purine nucleotides\"              \n",
       " [7] \"Carboxylic acids and derivatives\" \"Depsides and depsidones\"         \n",
       " [9] \"Organonitrogen compounds\"         \"Indoles and derivatives\"         "
      ]
     },
     "metadata": {},
     "output_type": "display_data"
    }
   ],
   "source": [
    "unique(cl$CF_class)"
   ]
  },
  {
   "cell_type": "code",
   "execution_count": 31,
   "metadata": {},
   "outputs": [
    {
     "data": {
      "text/html": [
       "<style>\n",
       ".list-inline {list-style: none; margin:0; padding: 0}\n",
       ".list-inline>li {display: inline-block}\n",
       ".list-inline>li:not(:last-child)::after {content: \"\\00b7\"; padding: 0 .5ex}\n",
       "</style>\n",
       "<ol class=list-inline><li>'Right armpit'</li><li>'Left armpit'</li></ol>\n"
      ],
      "text/latex": [
       "\\begin{enumerate*}\n",
       "\\item 'Right armpit'\n",
       "\\item 'Left armpit'\n",
       "\\end{enumerate*}\n"
      ],
      "text/markdown": [
       "1. 'Right armpit'\n",
       "2. 'Left armpit'\n",
       "\n",
       "\n"
      ],
      "text/plain": [
       "[1] \"Right armpit\" \"Left armpit\" "
      ]
     },
     "metadata": {},
     "output_type": "display_data"
    }
   ],
   "source": [
    "unique(md$sample_site)"
   ]
  },
  {
   "cell_type": "markdown",
   "metadata": {},
   "source": [
    "remove features with no putative chemical class annotation"
   ]
  },
  {
   "cell_type": "code",
   "execution_count": 32,
   "metadata": {},
   "outputs": [],
   "source": [
    "cl_un <- cl[-which(cl$CF_class == 'no matches'),]"
   ]
  },
  {
   "cell_type": "code",
   "execution_count": 33,
   "metadata": {},
   "outputs": [],
   "source": [
    "fts_un <- fts[,which(colnames(fts) %in% cl_un$cluster.index)]"
   ]
  },
  {
   "cell_type": "code",
   "execution_count": 34,
   "metadata": {},
   "outputs": [
    {
     "data": {
      "text/html": [
       "<style>\n",
       ".list-inline {list-style: none; margin:0; padding: 0}\n",
       ".list-inline>li {display: inline-block}\n",
       ".list-inline>li:not(:last-child)::after {content: \"\\00b7\"; padding: 0 .5ex}\n",
       "</style>\n",
       "<ol class=list-inline><li>50</li><li>15</li></ol>\n"
      ],
      "text/latex": [
       "\\begin{enumerate*}\n",
       "\\item 50\n",
       "\\item 15\n",
       "\\end{enumerate*}\n"
      ],
      "text/markdown": [
       "1. 50\n",
       "2. 15\n",
       "\n",
       "\n"
      ],
      "text/plain": [
       "[1] 50 15"
      ]
     },
     "metadata": {},
     "output_type": "display_data"
    },
    {
     "data": {
      "text/html": [
       "<style>\n",
       ".list-inline {list-style: none; margin:0; padding: 0}\n",
       ".list-inline>li {display: inline-block}\n",
       ".list-inline>li:not(:last-child)::after {content: \"\\00b7\"; padding: 0 .5ex}\n",
       "</style>\n",
       "<ol class=list-inline><li>238</li><li>50</li></ol>\n"
      ],
      "text/latex": [
       "\\begin{enumerate*}\n",
       "\\item 238\n",
       "\\item 50\n",
       "\\end{enumerate*}\n"
      ],
      "text/markdown": [
       "1. 238\n",
       "2. 50\n",
       "\n",
       "\n"
      ],
      "text/plain": [
       "[1] 238  50"
      ]
     },
     "metadata": {},
     "output_type": "display_data"
    }
   ],
   "source": [
    "dim(cl_un)\n",
    "dim(fts_un)"
   ]
  },
  {
   "cell_type": "markdown",
   "metadata": {},
   "source": [
    "create color legends for heatmap"
   ]
  },
  {
   "cell_type": "code",
   "execution_count": 35,
   "metadata": {},
   "outputs": [],
   "source": [
    "col <- list(Class = c(\"Prenol lipids\" = \"#3889A0\", \"Glycerophospholipids\" = \"#F2AD00\", \"Steroids and steroid derivatives\" = \"#FF8300\", \n",
    "                              \"no matches\" = \"#1B9E77\",'Fatty Acyls' = \"#046C9A\", 'Purine nucleotides' = \"#0B775E\", 'Carboxylic acids and derivatives' = \"#35274A\",\n",
    "                             'Depsides and depsidones' = \"#F2300F\", 'Organonitrogen compounds' = '#ff77aa', 'Indoles and derivatives'= '#cc8899')\n",
    "            ,Site =  c('Right armpit' = '#3EB489', 'Left armpit' = '#A020F0')\n",
    "           )"
   ]
  },
  {
   "cell_type": "code",
   "execution_count": 36,
   "metadata": {},
   "outputs": [],
   "source": [
    "site_annot <- HeatmapAnnotation(Site = md$sample_site, which = \"row\", width = unit(1.5, \"cm\")\n",
    "                                 ,col = col, annotation_legend_param = list(title = \"Site\"))"
   ]
  },
  {
   "cell_type": "code",
   "execution_count": 37,
   "metadata": {},
   "outputs": [],
   "source": [
    "chem_annot <- HeatmapAnnotation(Class = cl_un$CF_class[match(colnames(fts_un),cl_un$cluster.index)]\n",
    "                                ,col = col, annotation_legend_param = list(title = \"Chemical class\"))"
   ]
  },
  {
   "cell_type": "markdown",
   "metadata": {},
   "source": [
    "check whether chemical class matching to features is correct"
   ]
  },
  {
   "cell_type": "code",
   "execution_count": 38,
   "metadata": {},
   "outputs": [
    {
     "data": {
      "text/html": [
       "TRUE"
      ],
      "text/latex": [
       "TRUE"
      ],
      "text/markdown": [
       "TRUE"
      ],
      "text/plain": [
       "[1] TRUE"
      ]
     },
     "metadata": {},
     "output_type": "display_data"
    }
   ],
   "source": [
    "identical(as.character(cl_un$cluster.index[match(colnames(fts_un),cl_un$cluster.index)]), colnames(fts_un))"
   ]
  },
  {
   "cell_type": "markdown",
   "metadata": {},
   "source": [
    "create heatmap showing differentially abundant metabolite features across left and right armpits and their respective putative chemical classes "
   ]
  },
  {
   "cell_type": "code",
   "execution_count": 39,
   "metadata": {},
   "outputs": [
    {
     "name": "stderr",
     "output_type": "stream",
     "text": [
      "The automatically generated colors map from the minus and plus 99^th of\n",
      "the absolute values in the matrix. There are outliers in the matrix\n",
      "whose patterns might be hidden by this color mapping. You can manually\n",
      "set the color to `col` argument.\n",
      "\n",
      "Use `suppressMessages()` to turn off this message.\n",
      "\n"
     ]
    },
    {
     "data": {
      "image/png": "[encoded data removed]",
      "text/plain": [
       "plot without title"
      ]
     },
     "metadata": {
      "image/png": {
       "height": 420,
       "width": 420
      }
     },
     "output_type": "display_data"
    }
   ],
   "source": [
    "Heatmap(fts_un,\n",
    "       name = paste(\"Relative metabolite\",\"abundance\", sep = \"\\n\"), \n",
    "       clustering_distance_rows = 'euclidean',\n",
    "       clustering_method_rows = 'complete',\n",
    "       top_annotation = chem_annot,\n",
    "       left_annotation = site_annot,\n",
    "       split = md$sample_site,\n",
    "       row_labels = rep('',nrow(fts_un)),\n",
    "       column_labels = rep('',ncol(fts_un)),\n",
    "       column_split = cl_un$CF_class[match(colnames(fts_un),cl_un$cluster.index)],\n",
    "       row_dend_side = \"right\",\n",
    "       cluster_row_slices = TRUE,\n",
    "       cluster_columns = TRUE,\n",
    "       column_title=NULL,\n",
    "       row_title=NULL\n",
    "       ) "
   ]
  },
  {
   "cell_type": "markdown",
   "metadata": {},
   "source": [
    "save figure as pdf"
   ]
  },
  {
   "cell_type": "code",
   "execution_count": 40,
   "metadata": {},
   "outputs": [
    {
     "name": "stderr",
     "output_type": "stream",
     "text": [
      "The automatically generated colors map from the minus and plus 99^th of\n",
      "the absolute values in the matrix. There are outliers in the matrix\n",
      "whose patterns might be hidden by this color mapping. You can manually\n",
      "set the color to `col` argument.\n",
      "\n",
      "Use `suppressMessages()` to turn off this message.\n",
      "\n"
     ]
    },
    {
     "data": {
      "text/html": [
       "<strong>pdf:</strong> 2"
      ],
      "text/latex": [
       "\\textbf{pdf:} 2"
      ],
      "text/markdown": [
       "**pdf:** 2"
      ],
      "text/plain": [
       "pdf \n",
       "  2 "
      ]
     },
     "metadata": {},
     "output_type": "display_data"
    }
   ],
   "source": [
    "pdf(\"AnnotatedHeatmap_Classes_Annotated.pdf\", height = 10, width = 11)\n",
    "Heatmap(fts_un,\n",
    "       name = paste(\"Relative metabolite\",\"abundance\", sep = \"\\n\"), \n",
    "       clustering_distance_rows = 'euclidean',\n",
    "       clustering_method_rows = 'complete',\n",
    "       top_annotation = chem_annot,\n",
    "       left_annotation = site_annot,\n",
    "       split = md$sample_site,\n",
    "       row_labels = rep('',nrow(fts_un)),\n",
    "       column_labels = rep('',ncol(fts_un)),\n",
    "       column_split = cl_un$CF_class[match(colnames(fts_un),cl_un$cluster.index)],\n",
    "       row_dend_side = \"right\",\n",
    "       cluster_row_slices = TRUE,\n",
    "       cluster_columns = TRUE,\n",
    "       column_title=NULL,\n",
    "       row_title=NULL\n",
    "       ) \n",
    "dev.off()"
   ]
  },
  {
   "cell_type": "code",
   "execution_count": null,
   "metadata": {},
   "outputs": [],
   "source": []
  }
 ],
 "metadata": {
  "kernelspec": {
   "display_name": "R",
   "language": "R",
   "name": "ir"
  },
  "language_info": {
   "codemirror_mode": "r",
   "file_extension": ".r",
   "mimetype": "text/x-r-source",
   "name": "R",
   "pygments_lexer": "r",
   "version": "4.1.1"
  }
 },
 "nbformat": 4,
 "nbformat_minor": 2
}
